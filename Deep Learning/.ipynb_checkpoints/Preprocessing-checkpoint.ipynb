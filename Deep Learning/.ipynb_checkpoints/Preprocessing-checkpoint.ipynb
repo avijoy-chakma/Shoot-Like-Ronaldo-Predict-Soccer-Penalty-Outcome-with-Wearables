{
 "cells": [
  {
   "cell_type": "code",
   "execution_count": 1,
   "metadata": {},
   "outputs": [],
   "source": [
    "import matplotlib as plt\n",
    "import pandas as pd\n",
    "import os\n",
    "import numpy as np\n",
    "import math\n",
    "import csv\n",
    "from sklearn import preprocessing\n",
    "import tqdm"
   ]
  },
  {
   "cell_type": "code",
   "execution_count": 2,
   "metadata": {},
   "outputs": [],
   "source": [
    "home_url = os.getcwd()\n",
    "url = home_url + \"/Dataset/\"\n",
    "save_path = home_url + \"/Preprocessed Dataset/\"\n",
    "file_name = ['P1','P2','P3','P4']\n",
    "item = [\"train\",\"valid\",\"test\"]"
   ]
  },
  {
   "cell_type": "code",
   "execution_count": 3,
   "metadata": {},
   "outputs": [],
   "source": [
    "train_percentage = 0.7\n",
    "valid_percentage = 0.2"
   ]
  },
  {
   "cell_type": "code",
   "execution_count": 4,
   "metadata": {},
   "outputs": [],
   "source": [
    "total_frame = {}"
   ]
  },
  {
   "cell_type": "code",
   "execution_count": 5,
   "metadata": {},
   "outputs": [],
   "source": [
    "def plot_activity(df, position='Default'):\n",
    "    data = df[['X', 'Y','Z']][:df.shape[0]]\n",
    "    axis = data.plot(subplots=True, figsize=(16, 12), title=position)\n",
    "    for ax in axis:\n",
    "        ax.legend(loc='lower left', bbox_to_anchor=(1.0, 0.5))"
   ]
  },
  {
   "cell_type": "markdown",
   "metadata": {},
   "source": [
    "### Read File"
   ]
  },
  {
   "cell_type": "code",
   "execution_count": 19,
   "metadata": {},
   "outputs": [],
   "source": [
    "# df = pd.read_csv(url+file_name[0]+\".csv\")"
   ]
  },
  {
   "cell_type": "code",
   "execution_count": 20,
   "metadata": {},
   "outputs": [],
   "source": [
    "# df.head()"
   ]
  },
  {
   "cell_type": "code",
   "execution_count": 8,
   "metadata": {},
   "outputs": [],
   "source": [
    "for i in range(4):\n",
    "    df = pd.read_csv(url+file_name[i]+\".csv\")\n",
    "    df.drop(['Unnamed: 0', 'Index'], axis=1, inplace=True)\n",
    "    total_frame[i] = df"
   ]
  },
  {
   "cell_type": "code",
   "execution_count": 21,
   "metadata": {},
   "outputs": [],
   "source": [
    "# total_frame[0].head()"
   ]
  },
  {
   "cell_type": "markdown",
   "metadata": {},
   "source": [
    "### User Specific, Position-wise Standardization and Normalization"
   ]
  },
  {
   "cell_type": "code",
   "execution_count": 10,
   "metadata": {},
   "outputs": [],
   "source": [
    "for i in range(4):\n",
    "    person_gt = np.array(total_frame[i]['User'])\n",
    "    gt = np.array(total_frame[i]['Label'])\n",
    "    \n",
    "    total_frame[i].drop(['User','Label'], axis=1, inplace=True)\n",
    "    column_name = total_frame[i].columns\n",
    "    \n",
    "    scaler = preprocessing.StandardScaler()\n",
    "    df_standardized = scaler.fit_transform(total_frame[i])\n",
    "    total_frame[i] = pd.DataFrame(df_standardized)\n",
    "\n",
    "    min_max_scaler = preprocessing.MinMaxScaler()\n",
    "    np_scaled = min_max_scaler.fit_transform(total_frame[i])\n",
    "    total_frame[i] = pd.DataFrame(np_scaled, columns=column_name)\n",
    "    \n",
    "    total_frame[i][\"User\"] = person_gt\n",
    "    total_frame[i][\"Label\"] = gt"
   ]
  },
  {
   "cell_type": "code",
   "execution_count": 11,
   "metadata": {},
   "outputs": [
    {
     "data": {
      "text/html": [
       "<div>\n",
       "<style scoped>\n",
       "    .dataframe tbody tr th:only-of-type {\n",
       "        vertical-align: middle;\n",
       "    }\n",
       "\n",
       "    .dataframe tbody tr th {\n",
       "        vertical-align: top;\n",
       "    }\n",
       "\n",
       "    .dataframe thead th {\n",
       "        text-align: right;\n",
       "    }\n",
       "</style>\n",
       "<table border=\"1\" class=\"dataframe\">\n",
       "  <thead>\n",
       "    <tr style=\"text-align: right;\">\n",
       "      <th></th>\n",
       "      <th>X</th>\n",
       "      <th>Y</th>\n",
       "      <th>Z</th>\n",
       "      <th>User</th>\n",
       "      <th>Label</th>\n",
       "    </tr>\n",
       "  </thead>\n",
       "  <tbody>\n",
       "    <tr>\n",
       "      <th>0</th>\n",
       "      <td>0.581684</td>\n",
       "      <td>0.547857</td>\n",
       "      <td>0.398028</td>\n",
       "      <td>P1</td>\n",
       "      <td>0</td>\n",
       "    </tr>\n",
       "    <tr>\n",
       "      <th>1</th>\n",
       "      <td>0.637371</td>\n",
       "      <td>0.549035</td>\n",
       "      <td>0.412741</td>\n",
       "      <td>P1</td>\n",
       "      <td>0</td>\n",
       "    </tr>\n",
       "    <tr>\n",
       "      <th>2</th>\n",
       "      <td>0.665743</td>\n",
       "      <td>0.561994</td>\n",
       "      <td>0.407262</td>\n",
       "      <td>P1</td>\n",
       "      <td>0</td>\n",
       "    </tr>\n",
       "    <tr>\n",
       "      <th>3</th>\n",
       "      <td>0.667524</td>\n",
       "      <td>0.583272</td>\n",
       "      <td>0.391611</td>\n",
       "      <td>P1</td>\n",
       "      <td>0</td>\n",
       "    </tr>\n",
       "    <tr>\n",
       "      <th>4</th>\n",
       "      <td>0.662906</td>\n",
       "      <td>0.615447</td>\n",
       "      <td>0.375098</td>\n",
       "      <td>P1</td>\n",
       "      <td>0</td>\n",
       "    </tr>\n",
       "  </tbody>\n",
       "</table>\n",
       "</div>"
      ],
      "text/plain": [
       "          X         Y         Z User  Label\n",
       "0  0.581684  0.547857  0.398028   P1      0\n",
       "1  0.637371  0.549035  0.412741   P1      0\n",
       "2  0.665743  0.561994  0.407262   P1      0\n",
       "3  0.667524  0.583272  0.391611   P1      0\n",
       "4  0.662906  0.615447  0.375098   P1      0"
      ]
     },
     "execution_count": 11,
     "metadata": {},
     "output_type": "execute_result"
    }
   ],
   "source": [
    "total_frame[0].head()"
   ]
  },
  {
   "cell_type": "code",
   "execution_count": 12,
   "metadata": {},
   "outputs": [
    {
     "data": {
      "text/plain": [
       "array([0, 1, 2, 3, 4, 5])"
      ]
     },
     "execution_count": 12,
     "metadata": {},
     "output_type": "execute_result"
    }
   ],
   "source": [
    "total_frame[3]['Label'].unique()"
   ]
  },
  {
   "cell_type": "markdown",
   "metadata": {},
   "source": [
    "### Train -Valid Split"
   ]
  },
  {
   "cell_type": "code",
   "execution_count": 13,
   "metadata": {},
   "outputs": [],
   "source": [
    "train_frame = {}\n",
    "valid_frame = {}\n",
    "test_frame = {}"
   ]
  },
  {
   "cell_type": "code",
   "execution_count": 14,
   "metadata": {},
   "outputs": [],
   "source": [
    "for i in range(4):\n",
    "    total_activity = len(np.unique(total_frame[i]['Label']))\n",
    "    \n",
    "    total_train = pd.DataFrame(columns=['X', 'Y', 'Z', 'User', 'Label'])\n",
    "    total_valid = pd.DataFrame(columns=['X', 'Y', 'Z', 'User', 'Label'])\n",
    "    total_test = pd.DataFrame(columns=['X', 'Y', 'Z', 'User', 'Label'])\n",
    "    \n",
    "    for activity_index in range(0, total_activity):\n",
    "        \n",
    "        activity_frame = total_frame[i][total_frame[i]['Label'] == activity_index]\n",
    "\n",
    "        train_upto = int(activity_frame.shape[0]*train_percentage)  \n",
    "        valid_upto = int(activity_frame.shape[0]*valid_percentage) \n",
    "        \n",
    "        train = activity_frame[0:train_upto].copy()\n",
    "        valid = activity_frame[train_upto+1 : train_upto+valid_upto].copy()\n",
    "        test = activity_frame[train_upto+valid_upto+1: activity_frame.shape[0]].copy()\n",
    "\n",
    "        total_train = total_train.append(train, ignore_index=True, sort = False)\n",
    "        total_valid = total_valid.append(valid, ignore_index=True, sort = False)\n",
    "        total_test = total_valid.append(test, ignore_index=True, sort = False)\n",
    "\n",
    "    total_train.to_csv (save_path+file_name[i]+'_train.csv', index = None, header=True)\n",
    "    total_valid.to_csv (save_path+file_name[i]+'_valid.csv', index = None, header=True)\n",
    "    total_test.to_csv (save_path+file_name[i]+'_test.csv', index = None, header=True)\n",
    "    \n",
    "    plot_activity(total_train, \"Default\")\n",
    "    plot_activity(total_valid, \"Default\")\n",
    "    plot_activity(total_test, \"Default\")"
   ]
  },
  {
   "cell_type": "markdown",
   "metadata": {},
   "source": [
    "## Prepare Final Dataset"
   ]
  },
  {
   "cell_type": "code",
   "execution_count": 15,
   "metadata": {},
   "outputs": [],
   "source": [
    "train_dataset = []\n",
    "train_gt_dataset = []"
   ]
  },
  {
   "cell_type": "code",
   "execution_count": 16,
   "metadata": {},
   "outputs": [],
   "source": [
    "valid_dataset = []\n",
    "valid_gt_dataset = []"
   ]
  },
  {
   "cell_type": "code",
   "execution_count": 17,
   "metadata": {},
   "outputs": [],
   "source": [
    "test_dataset = []\n",
    "test_gt_dataset = []"
   ]
  },
  {
   "cell_type": "code",
   "execution_count": 18,
   "metadata": {},
   "outputs": [],
   "source": [
    "win_size=64\n",
    "step_size=32\n",
    "AXIS = 3\n",
    "FROM = 0\n",
    "TO = FROM+3\n",
    "START = 4\n",
    "END = 5"
   ]
  },
  {
   "cell_type": "markdown",
   "metadata": {},
   "source": [
    "### Code Block for taking position-wise all user train and validation data"
   ]
  },
  {
   "cell_type": "code",
   "execution_count": 22,
   "metadata": {},
   "outputs": [
    {
     "name": "stdout",
     "output_type": "stream",
     "text": [
      "P1_train\n",
      "P1_valid\n",
      "P1_test\n",
      "P2_train\n",
      "P2_valid\n",
      "P2_test\n",
      "P3_train\n",
      "P3_valid\n",
      "P3_test\n",
      "P4_train\n",
      "P4_valid\n",
      "P4_test\n"
     ]
    }
   ],
   "source": [
    "for user in range(4):\n",
    "    for split_index in range(0,3):\n",
    "        file = file_name[user] +'_'+item[split_index]\n",
    "\n",
    "        print(file)\n",
    "        df = pd.read_csv(save_path+file+'.csv', sep=\",\")   \n",
    "        len_df = df.shape[0]\n",
    "        narray = df.values\n",
    "\n",
    "        for i in range(0, len_df, step_size):\n",
    "            window = narray[i:i+win_size, FROM:TO]\n",
    "\n",
    "            if window.shape[0] != win_size:\n",
    "                continue\n",
    "            else:\n",
    "                reshaped_window = window.reshape(1,win_size,1,AXIS)\n",
    "                gt = np.bincount(narray[i:i+win_size,START:END].astype(int).ravel()).argmax()\n",
    "\n",
    "                if split_index == 0:\n",
    "                    train_dataset.append(reshaped_window)\n",
    "                    train_gt_dataset.append(gt)\n",
    "                elif split_index == 1:\n",
    "                    valid_dataset.append(reshaped_window)\n",
    "                    valid_gt_dataset.append(gt)\n",
    "                elif split_index == 2:\n",
    "                    test_dataset.append(reshaped_window)\n",
    "                    test_gt_dataset.append(gt)"
   ]
  },
  {
   "cell_type": "markdown",
   "metadata": {},
   "source": [
    "### Visualization"
   ]
  },
  {
   "cell_type": "code",
   "execution_count": 23,
   "metadata": {},
   "outputs": [],
   "source": [
    "def plot_data_distribution(s1, s2, target, activity_list):\n",
    "\n",
    "    import numpy as np\n",
    "    import matplotlib.pyplot as plt\n",
    "\n",
    "    # data to plot\n",
    "    n_groups = 3\n",
    "\n",
    "    # create plot\n",
    "    fig, ax = plt.subplots()\n",
    "    index = np.arange(n_groups)\n",
    "    bar_width = 0.25\n",
    "    opacity = 0.8\n",
    "\n",
    "    rects1 = plt.bar(index, s1, bar_width,\n",
    "    alpha=opacity,\n",
    "    color='b',\n",
    "    label='Source1')\n",
    "\n",
    "    rects2 = plt.bar(index + bar_width, s2, bar_width,\n",
    "    alpha=opacity,\n",
    "    color='g',\n",
    "    label='Source2')\n",
    "\n",
    "    rects3 = plt.bar(index + 2*bar_width, target, bar_width,\n",
    "    alpha=opacity,\n",
    "    color='m',\n",
    "    label='Target')\n",
    "\n",
    "    plt.xlabel('Activity')\n",
    "    plt.ylabel('Time')\n",
    "    plt.title('Time Comparison')\n",
    "    plt.xticks(index + bar_width, activity_list)\n",
    "    plt.legend()\n",
    "\n",
    "    plt.tight_layout()\n",
    "    plt.show()"
   ]
  },
  {
   "cell_type": "code",
   "execution_count": 24,
   "metadata": {},
   "outputs": [],
   "source": [
    "# arnob_time = np.array([0.256, 0.248, 0.248, 0.284, 0.25, 0.29])\n",
    "# avijoy_time = np.array([0.299, 0.270, 0.377, 0.295, 0.273, 0.28])\n",
    "# emon_time = np.array([0.308, 0.306, 0.416, 0.409, 0.286, 0.288])\n",
    "# mahmud_time = np.array([0.366, 0.281, 0.314, 0.382, 0.294, 0.347])\n",
    "# activity = ['Right-Ground', 'Right-Top', 'Left-Ground', 'Left-Top', 'Mid-Ground', 'Mid-Top']"
   ]
  },
  {
   "cell_type": "code",
   "execution_count": 25,
   "metadata": {},
   "outputs": [],
   "source": [
    "# import seaborn as sns\n",
    "# sns.set(style=\"darkgrid\")\n",
    "# ax = sns.barplot(x=activity, y=arnob_time)"
   ]
  },
  {
   "cell_type": "code",
   "execution_count": 26,
   "metadata": {},
   "outputs": [],
   "source": [
    "# ax = sns.barplot(x=activity, y=avijoy_time)"
   ]
  },
  {
   "cell_type": "code",
   "execution_count": 27,
   "metadata": {
    "scrolled": true
   },
   "outputs": [],
   "source": [
    "# ax = sns.barplot(x=activity, y=mahmud_time)"
   ]
  },
  {
   "cell_type": "code",
   "execution_count": 28,
   "metadata": {},
   "outputs": [],
   "source": [
    "# ax = sns.barplot(x=activity, y=emon_time)"
   ]
  },
  {
   "cell_type": "code",
   "execution_count": 30,
   "metadata": {},
   "outputs": [
    {
     "data": {
      "image/png": "[encoded data removed]",
      "text/plain": [
       "<Figure size 1332x756 with 1 Axes>"
      ]
     },
     "metadata": {},
     "output_type": "display_data"
    }
   ],
   "source": [
    "import seaborn as sns\n",
    "import numpy as np\n",
    "import matplotlib.pyplot as plt\n",
    "sns.set(style=\"darkgrid\")\n",
    "n_groups = 6\n",
    "P1_time = np.array([0.256, 0.248, 0.248, 0.284, 0.25, 0.29])\n",
    "P2_time = (0.299, 0.270, 0.377, 0.295, 0.273, 0.28)\n",
    "P3_time = (0.308, 0.306, 0.416, 0.409, 0.286, 0.288)\n",
    "P4_time = (0.366, 0.281, 0.314, 0.382, 0.294, 0.347)\n",
    "\n",
    "# create plot\n",
    "fig, ax = plt.subplots()\n",
    "fig.set_size_inches(18.5, 10.5)\n",
    "index = np.arange(n_groups)\n",
    "bar_width = 0.20\n",
    "opacity = 0.8\n",
    "\n",
    "rects1 = plt.bar(index, P1_time, bar_width,alpha=opacity,color='forestgreen',label='Participant 1')\n",
    "rects2 = plt.bar(index + bar_width, P2_time, bar_width,alpha=opacity,color='darkorange',label='Participant 2')\n",
    "rects3 = plt.bar(index + 2*bar_width, P3_time, bar_width,alpha=opacity,color='indigo',label='Participant 3')\n",
    "rects4 = plt.bar(index + 3*bar_width, P4_time, bar_width,alpha=opacity,color='cornflowerblue',label='Participant 4')\n",
    "\n",
    "plt.xlabel('Shot', fontsize=25)\n",
    "# plt.xlabel('Time: 0.'+str(end_time[i]-start_time[i])+'Sec', fontsize=10, labelpad=20)\n",
    "plt.ylabel('Time(sec)', fontsize=25)\n",
    "plt.xticks(index + bar_width, ('Right-Ground', 'Right-Top', 'Left-Ground', 'Left-Top', 'Mid-Ground', 'Mid-Top'), fontsize=25)\n",
    "plt.legend(fontsize=20)\n",
    "\n",
    "plt.tight_layout()\n",
    "plt.show()"
   ]
  },
  {
   "cell_type": "code",
   "execution_count": null,
   "metadata": {},
   "outputs": [],
   "source": []
  }
 ],
 "metadata": {
  "kernelspec": {
   "display_name": "Python 3",
   "language": "python",
   "name": "python3"
  },
  "language_info": {
   "codemirror_mode": {
    "name": "ipython",
    "version": 3
   },
   "file_extension": ".py",
   "mimetype": "text/x-python",
   "name": "python",
   "nbconvert_exporter": "python",
   "pygments_lexer": "ipython3",
   "version": "3.6.5"
  }
 },
 "nbformat": 4,
 "nbformat_minor": 2
}
