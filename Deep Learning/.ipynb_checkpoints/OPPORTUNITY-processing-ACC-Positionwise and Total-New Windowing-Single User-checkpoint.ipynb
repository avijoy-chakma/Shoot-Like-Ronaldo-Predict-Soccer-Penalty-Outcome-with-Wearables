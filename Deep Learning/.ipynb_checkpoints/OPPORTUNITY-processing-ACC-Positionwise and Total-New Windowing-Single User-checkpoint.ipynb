{
 "cells": [
  {
   "cell_type": "code",
   "execution_count": 1,
   "metadata": {},
   "outputs": [],
   "source": [
    "# https://archive.ics.uci.edu/ml/datasets/opportunity+activity+recognition"
   ]
  },
  {
   "cell_type": "code",
   "execution_count": 1,
   "metadata": {},
   "outputs": [],
   "source": [
    "import matplotlib as plt\n",
    "import pandas as pd\n",
    "import os\n",
    "import numpy as np\n",
    "import math\n",
    "import csv\n",
    "from pandas.compat import StringIO\n",
    "from sklearn import preprocessing\n",
    "# from tqdm import tqdm\n",
    "import tqdm"
   ]
  },
  {
   "cell_type": "code",
   "execution_count": 2,
   "metadata": {},
   "outputs": [],
   "source": [
    "url = \"/home/avijoychakma/Downloads/PerCom 2020/Dataset/OpportunityUCIDataset/dataset/\""
   ]
  },
  {
   "cell_type": "code",
   "execution_count": 3,
   "metadata": {},
   "outputs": [],
   "source": [
    "save_path = \"/home/avijoychakma/Downloads/DTCN-AR/Dataset Preprocessing/OPPORTUNITY/ACC-Position-Preprocessed/\""
   ]
  },
  {
   "cell_type": "markdown",
   "metadata": {},
   "source": [
    "# OLD and dataset accelerometer values are in thousends \n",
    "    - Locomotion Annotation: Stand, Walk, Sit, Lie\n",
    "    Column Information:\n",
    "    1: Milisec\n",
    "    38-46: Back IMU\n",
    "    51-59: Right Upper Arm\n",
    "    64-72: Right Lower Arm\n",
    "    77-85: Left Upper Arm\n",
    "    90-98: Left Lower Arm\n",
    "    103-117: Left Shoe\n",
    "    119-133: Right Shoe\n",
    "    244: Locomotion\n",
    "    \n",
    "    Shoe accumulated data is different than the Back, Left, right arm. Leave shoe data seperate."
   ]
  },
  {
   "cell_type": "markdown",
   "metadata": {},
   "source": [
    "### Label Mapping\n",
    "    - Stand: 1\n",
    "    - Walk: 3\n",
    "    - Sit: 0\n",
    "    - Lie: 2"
   ]
  },
  {
   "cell_type": "code",
   "execution_count": 4,
   "metadata": {},
   "outputs": [],
   "source": [
    "total_frame = {}\n",
    "BACK_frame = {}\n",
    "RUA_frame = {}\n",
    "RLA_frame = {}\n",
    "LUA_frame = {}\n",
    "LLA_frame = {}"
   ]
  },
  {
   "cell_type": "code",
   "execution_count": 5,
   "metadata": {},
   "outputs": [],
   "source": [
    "# Back_frame, RUA_frame, RLA_frame, LUA_frame, LLA_frame: \n",
    "# 11-15: User1\n",
    "# 21-25: User2\n",
    "# 31-35: User3\n",
    "# 41-45: User4"
   ]
  },
  {
   "cell_type": "code",
   "execution_count": 6,
   "metadata": {},
   "outputs": [],
   "source": [
    "# dataframe[0].head()"
   ]
  },
  {
   "cell_type": "code",
   "execution_count": 50,
   "metadata": {},
   "outputs": [],
   "source": [
    "def plot_activity(df, position='Default'):\n",
    "    data = df[['Acc_x', 'Acc_y','Acc_z']][:df.shape[0]]\n",
    "\n",
    "#     position += '  Index Range: '+str(df.index[0])+ '  to  '+ str(df.index[-1])\n",
    "    axis = data.plot(subplots=True, figsize=(16, 12), title=position)\n",
    "    for ax in axis:\n",
    "        ax.legend(loc='lower left', bbox_to_anchor=(1.0, 0.5))\n",
    "#         ax.figure.savefig(visualization_url+position+'.png')"
   ]
  },
  {
   "cell_type": "code",
   "execution_count": 8,
   "metadata": {},
   "outputs": [],
   "source": [
    "for user_index in range(1,5):\n",
    "    for run_index in range(1,6):\n",
    "        file_name = \"S\"+str(user_index)+\"-ADL\"+str(run_index)+\".dat\"\n",
    "        dataframe = pd.read_csv(url+file_name,sep=\" \", header=None) \n",
    "        \n",
    "        dataframe.sort_values(0)\n",
    "        index = (user_index * 10) + run_index\n",
    "        \n",
    "        BACK_IMU_frame = dataframe[[37,38,39,243]].copy()\n",
    "        BACK_IMU_frame.rename(columns={37: 'Acc_x', 38:'Acc_y', 39: 'Acc_z', 243: 'gt'}, inplace=True)\n",
    "        BACK_IMU_frame = BACK_IMU_frame.dropna()\n",
    "        BACK_IMU_frame = BACK_IMU_frame[BACK_IMU_frame[\"gt\"] != 0].copy()\n",
    "        \n",
    "        BACK_IMU_frame.loc[:, 'Person'] = user_index\n",
    "        BACK_IMU_frame.loc[:, 'Position'] = \"Back\"\n",
    "        BACK_frame[index] = BACK_IMU_frame.copy()\n",
    "        BACK_frame[index].reset_index(drop=True, inplace=True)\n",
    "        \n",
    "        \n",
    "        \n",
    "        \n",
    "        RUA_IMU_frame = dataframe[[50,51,52,243]].copy()\n",
    "        RUA_IMU_frame.rename(columns={50: 'Acc_x', 51:'Acc_y', 52: 'Acc_z', 243: 'gt'}, inplace=True)\n",
    "        RUA_IMU_frame = RUA_IMU_frame.dropna()\n",
    "        RUA_IMU_frame = RUA_IMU_frame[RUA_IMU_frame[\"gt\"] != 0].copy()\n",
    "        \n",
    "        RUA_IMU_frame.loc[:, 'Person'] = user_index\n",
    "        RUA_IMU_frame.loc[:, 'Position'] = \"Right Upper Arm\"\n",
    "        RUA_frame[index] = RUA_IMU_frame.copy()\n",
    "        RUA_frame[index].reset_index(drop=True, inplace=True)\n",
    "        \n",
    "        \n",
    "        \n",
    "        RLA_IMU_frame = dataframe[[63,64,65,243]].copy()\n",
    "        RLA_IMU_frame.rename(columns={63: 'Acc_x', 64:'Acc_y', 65: 'Acc_z', 243: 'gt'}, inplace=True)\n",
    "        RLA_IMU_frame = RLA_IMU_frame.dropna()\n",
    "        RLA_IMU_frame = RLA_IMU_frame[RLA_IMU_frame[\"gt\"] != 0].copy()\n",
    "\n",
    "        RLA_IMU_frame.loc[:, 'Person'] = user_index\n",
    "        RLA_IMU_frame.loc[:, 'Position'] = \"Right Lower Arm\"\n",
    "        RLA_frame[index] = RLA_IMU_frame.copy()\n",
    "        RLA_frame[index].reset_index(drop=True, inplace=True)\n",
    "        \n",
    "        \n",
    "        \n",
    "        LUA_IMU_frame = dataframe[[76,77,78,243]].copy()\n",
    "        LUA_IMU_frame.rename(columns={76: 'Acc_x', 77:'Acc_y', 78: 'Acc_z', 243: 'gt'}, inplace=True)\n",
    "        LUA_IMU_frame = LUA_IMU_frame.dropna()\n",
    "        LUA_IMU_frame = LUA_IMU_frame[LUA_IMU_frame[\"gt\"] != 0].copy()\n",
    "\n",
    "        LUA_IMU_frame.loc[:, 'Person'] = user_index\n",
    "        LUA_IMU_frame.loc[:, 'Position'] = \"Left Upper Arm\"\n",
    "        LUA_frame[index] = LUA_IMU_frame.copy()\n",
    "        LUA_frame[index].reset_index(drop=True, inplace=True)\n",
    "        \n",
    "        \n",
    "        \n",
    "        LLA_IMU_frame = dataframe[[89,90,91,243]].copy()\n",
    "        LLA_IMU_frame.rename(columns={89: 'Acc_x', 90:'Acc_y', 91: 'Acc_z', 243: 'gt'}, inplace=True)\n",
    "        LLA_IMU_frame = LLA_IMU_frame.dropna()\n",
    "        LLA_IMU_frame = LLA_IMU_frame[LLA_IMU_frame[\"gt\"] != 0].copy()\n",
    "\n",
    "        LLA_IMU_frame.loc[:, 'Person'] = user_index\n",
    "        LLA_IMU_frame.loc[:, 'Position'] = \"Left Lower Arm\"\n",
    "        LLA_frame[index] = LLA_IMU_frame.copy()\n",
    "        LLA_frame[index].reset_index(drop=True, inplace=True)\n",
    "        "
   ]
  },
  {
   "cell_type": "code",
   "execution_count": 9,
   "metadata": {},
   "outputs": [
    {
     "data": {
      "text/html": [
       "<div>\n",
       "<style scoped>\n",
       "    .dataframe tbody tr th:only-of-type {\n",
       "        vertical-align: middle;\n",
       "    }\n",
       "\n",
       "    .dataframe tbody tr th {\n",
       "        vertical-align: top;\n",
       "    }\n",
       "\n",
       "    .dataframe thead th {\n",
       "        text-align: right;\n",
       "    }\n",
       "</style>\n",
       "<table border=\"1\" class=\"dataframe\">\n",
       "  <thead>\n",
       "    <tr style=\"text-align: right;\">\n",
       "      <th></th>\n",
       "      <th>Acc_x</th>\n",
       "      <th>Acc_y</th>\n",
       "      <th>Acc_z</th>\n",
       "      <th>gt</th>\n",
       "      <th>Person</th>\n",
       "      <th>Position</th>\n",
       "    </tr>\n",
       "  </thead>\n",
       "  <tbody>\n",
       "    <tr>\n",
       "      <th>0</th>\n",
       "      <td>-987.0</td>\n",
       "      <td>-130.0</td>\n",
       "      <td>106.0</td>\n",
       "      <td>1</td>\n",
       "      <td>1</td>\n",
       "      <td>Back</td>\n",
       "    </tr>\n",
       "    <tr>\n",
       "      <th>1</th>\n",
       "      <td>-986.0</td>\n",
       "      <td>-128.0</td>\n",
       "      <td>106.0</td>\n",
       "      <td>1</td>\n",
       "      <td>1</td>\n",
       "      <td>Back</td>\n",
       "    </tr>\n",
       "    <tr>\n",
       "      <th>2</th>\n",
       "      <td>-989.0</td>\n",
       "      <td>-131.0</td>\n",
       "      <td>103.0</td>\n",
       "      <td>1</td>\n",
       "      <td>1</td>\n",
       "      <td>Back</td>\n",
       "    </tr>\n",
       "    <tr>\n",
       "      <th>3</th>\n",
       "      <td>-989.0</td>\n",
       "      <td>-127.0</td>\n",
       "      <td>105.0</td>\n",
       "      <td>1</td>\n",
       "      <td>1</td>\n",
       "      <td>Back</td>\n",
       "    </tr>\n",
       "    <tr>\n",
       "      <th>4</th>\n",
       "      <td>-989.0</td>\n",
       "      <td>-127.0</td>\n",
       "      <td>110.0</td>\n",
       "      <td>1</td>\n",
       "      <td>1</td>\n",
       "      <td>Back</td>\n",
       "    </tr>\n",
       "  </tbody>\n",
       "</table>\n",
       "</div>"
      ],
      "text/plain": [
       "   Acc_x  Acc_y  Acc_z  gt  Person Position\n",
       "0 -987.0 -130.0  106.0   1       1     Back\n",
       "1 -986.0 -128.0  106.0   1       1     Back\n",
       "2 -989.0 -131.0  103.0   1       1     Back\n",
       "3 -989.0 -127.0  105.0   1       1     Back\n",
       "4 -989.0 -127.0  110.0   1       1     Back"
      ]
     },
     "execution_count": 9,
     "metadata": {},
     "output_type": "execute_result"
    }
   ],
   "source": [
    "BACK_frame[11].head()"
   ]
  },
  {
   "cell_type": "code",
   "execution_count": 10,
   "metadata": {},
   "outputs": [
    {
     "data": {
      "text/html": [
       "<div>\n",
       "<style scoped>\n",
       "    .dataframe tbody tr th:only-of-type {\n",
       "        vertical-align: middle;\n",
       "    }\n",
       "\n",
       "    .dataframe tbody tr th {\n",
       "        vertical-align: top;\n",
       "    }\n",
       "\n",
       "    .dataframe thead th {\n",
       "        text-align: right;\n",
       "    }\n",
       "</style>\n",
       "<table border=\"1\" class=\"dataframe\">\n",
       "  <thead>\n",
       "    <tr style=\"text-align: right;\">\n",
       "      <th></th>\n",
       "      <th>Acc_x</th>\n",
       "      <th>Acc_y</th>\n",
       "      <th>Acc_z</th>\n",
       "      <th>gt</th>\n",
       "      <th>Person</th>\n",
       "      <th>Position</th>\n",
       "    </tr>\n",
       "  </thead>\n",
       "  <tbody>\n",
       "    <tr>\n",
       "      <th>37502</th>\n",
       "      <td>-813.0</td>\n",
       "      <td>-380.0</td>\n",
       "      <td>17.0</td>\n",
       "      <td>2</td>\n",
       "      <td>1</td>\n",
       "      <td>Back</td>\n",
       "    </tr>\n",
       "    <tr>\n",
       "      <th>37503</th>\n",
       "      <td>-915.0</td>\n",
       "      <td>-463.0</td>\n",
       "      <td>47.0</td>\n",
       "      <td>2</td>\n",
       "      <td>1</td>\n",
       "      <td>Back</td>\n",
       "    </tr>\n",
       "    <tr>\n",
       "      <th>37504</th>\n",
       "      <td>-1008.0</td>\n",
       "      <td>-447.0</td>\n",
       "      <td>146.0</td>\n",
       "      <td>2</td>\n",
       "      <td>1</td>\n",
       "      <td>Back</td>\n",
       "    </tr>\n",
       "    <tr>\n",
       "      <th>37505</th>\n",
       "      <td>-1030.0</td>\n",
       "      <td>-373.0</td>\n",
       "      <td>115.0</td>\n",
       "      <td>2</td>\n",
       "      <td>1</td>\n",
       "      <td>Back</td>\n",
       "    </tr>\n",
       "    <tr>\n",
       "      <th>37506</th>\n",
       "      <td>-955.0</td>\n",
       "      <td>-325.0</td>\n",
       "      <td>78.0</td>\n",
       "      <td>2</td>\n",
       "      <td>1</td>\n",
       "      <td>Back</td>\n",
       "    </tr>\n",
       "  </tbody>\n",
       "</table>\n",
       "</div>"
      ],
      "text/plain": [
       "        Acc_x  Acc_y  Acc_z  gt  Person Position\n",
       "37502  -813.0 -380.0   17.0   2       1     Back\n",
       "37503  -915.0 -463.0   47.0   2       1     Back\n",
       "37504 -1008.0 -447.0  146.0   2       1     Back\n",
       "37505 -1030.0 -373.0  115.0   2       1     Back\n",
       "37506  -955.0 -325.0   78.0   2       1     Back"
      ]
     },
     "execution_count": 10,
     "metadata": {},
     "output_type": "execute_result"
    }
   ],
   "source": [
    "BACK_frame[11].tail()"
   ]
  },
  {
   "cell_type": "code",
   "execution_count": 11,
   "metadata": {},
   "outputs": [
    {
     "data": {
      "text/plain": [
       "array([1, 2, 4, 5])"
      ]
     },
     "execution_count": 11,
     "metadata": {},
     "output_type": "execute_result"
    }
   ],
   "source": [
    "np.unique(BACK_frame[11]['gt'])"
   ]
  },
  {
   "cell_type": "code",
   "execution_count": 12,
   "metadata": {},
   "outputs": [],
   "source": [
    "User1_Back_frame_total = pd.DataFrame(columns=['Acc_x', 'Acc_y', 'Acc_z', 'gt', 'Person', 'Position'])\n",
    "User1_RUA_frame_total = pd.DataFrame(columns=['Acc_x', 'Acc_y', 'Acc_z', 'gt', 'Person', 'Position'])\n",
    "User1_RLA_frame_total = pd.DataFrame(columns=['Acc_x', 'Acc_y', 'Acc_z', 'gt', 'Person', 'Position'])\n",
    "User1_LUA_frame_total = pd.DataFrame(columns=['Acc_x', 'Acc_y', 'Acc_z', 'gt', 'Person', 'Position'])\n",
    "User1_LLA_frame_total = pd.DataFrame(columns=['Acc_x', 'Acc_y', 'Acc_z', 'gt', 'Person', 'Position'])\n",
    "\n",
    "User2_Back_frame_total = pd.DataFrame(columns=['Acc_x', 'Acc_y', 'Acc_z', 'gt', 'Person', 'Position'])\n",
    "User2_RUA_frame_total = pd.DataFrame(columns=['Acc_x', 'Acc_y', 'Acc_z', 'gt', 'Person', 'Position'])\n",
    "User2_RLA_frame_total = pd.DataFrame(columns=['Acc_x', 'Acc_y', 'Acc_z', 'gt', 'Person', 'Position'])\n",
    "User2_LUA_frame_total = pd.DataFrame(columns=['Acc_x', 'Acc_y', 'Acc_z', 'gt', 'Person', 'Position'])\n",
    "User2_LLA_frame_total = pd.DataFrame(columns=['Acc_x', 'Acc_y', 'Acc_z', 'gt', 'Person', 'Position'])\n",
    "\n",
    "User3_Back_frame_total = pd.DataFrame(columns=['Acc_x', 'Acc_y', 'Acc_z', 'gt', 'Person', 'Position'])\n",
    "User3_RUA_frame_total = pd.DataFrame(columns=['Acc_x', 'Acc_y', 'Acc_z', 'gt', 'Person', 'Position'])\n",
    "User3_RLA_frame_total = pd.DataFrame(columns=['Acc_x', 'Acc_y', 'Acc_z', 'gt', 'Person', 'Position'])\n",
    "User3_LUA_frame_total = pd.DataFrame(columns=['Acc_x', 'Acc_y', 'Acc_z', 'gt', 'Person', 'Position'])\n",
    "User3_LLA_frame_total = pd.DataFrame(columns=['Acc_x', 'Acc_y', 'Acc_z', 'gt', 'Person', 'Position'])\n",
    "\n",
    "User4_Back_frame_total = pd.DataFrame(columns=['Acc_x', 'Acc_y', 'Acc_z', 'gt', 'Person', 'Position'])\n",
    "User4_RUA_frame_total = pd.DataFrame(columns=['Acc_x', 'Acc_y', 'Acc_z', 'gt', 'Person', 'Position'])\n",
    "User4_RLA_frame_total = pd.DataFrame(columns=['Acc_x', 'Acc_y', 'Acc_z', 'gt', 'Person', 'Position'])\n",
    "User4_LUA_frame_total = pd.DataFrame(columns=['Acc_x', 'Acc_y', 'Acc_z', 'gt', 'Person', 'Position'])\n",
    "User4_LLA_frame_total = pd.DataFrame(columns=['Acc_x', 'Acc_y', 'Acc_z', 'gt', 'Person', 'Position'])"
   ]
  },
  {
   "cell_type": "code",
   "execution_count": 13,
   "metadata": {},
   "outputs": [],
   "source": [
    "back_shape = 0\n",
    "for user_index in range(1,5):\n",
    "    for run_index in range(1,6):\n",
    "        index = (user_index * 10) + run_index\n",
    "\n",
    "        if user_index == 1:\n",
    "            User1_Back_frame_total = User1_Back_frame_total.append(BACK_frame[index], ignore_index=True)\n",
    "            User1_RUA_frame_total = User1_RUA_frame_total.append(RUA_frame[index], ignore_index=True)\n",
    "            User1_RLA_frame_total = User1_RLA_frame_total.append(RLA_frame[index], ignore_index=True)\n",
    "            User1_LUA_frame_total = User1_LUA_frame_total.append(LUA_frame[index], ignore_index=True)\n",
    "            User1_LLA_frame_total = User1_LLA_frame_total.append(LLA_frame[index], ignore_index=True)\n",
    "        elif user_index == 2:\n",
    "            User2_Back_frame_total = User2_Back_frame_total.append(BACK_frame[index], ignore_index=True)\n",
    "            User2_RUA_frame_total = User2_RUA_frame_total.append(RUA_frame[index], ignore_index=True)\n",
    "            User2_RLA_frame_total = User2_RLA_frame_total.append(RLA_frame[index], ignore_index=True)\n",
    "            User2_LUA_frame_total = User2_LUA_frame_total.append(LUA_frame[index], ignore_index=True)\n",
    "            User2_LLA_frame_total = User2_LLA_frame_total.append(LLA_frame[index], ignore_index=True)\n",
    "        elif user_index == 3:\n",
    "            User3_Back_frame_total = User3_Back_frame_total.append(BACK_frame[index], ignore_index=True)\n",
    "            User3_RUA_frame_total = User3_RUA_frame_total.append(RUA_frame[index], ignore_index=True)\n",
    "            User3_RLA_frame_total = User3_RLA_frame_total.append(RLA_frame[index], ignore_index=True)\n",
    "            User3_LUA_frame_total = User3_LUA_frame_total.append(LUA_frame[index], ignore_index=True)\n",
    "            User3_LLA_frame_total = User3_LLA_frame_total.append(LLA_frame[index], ignore_index=True)\n",
    "        elif user_index == 4:\n",
    "            User4_Back_frame_total = User4_Back_frame_total.append(BACK_frame[index], ignore_index=True)\n",
    "            User4_RUA_frame_total = User4_RUA_frame_total.append(RUA_frame[index], ignore_index=True)\n",
    "            User4_RLA_frame_total = User4_RLA_frame_total.append(RLA_frame[index], ignore_index=True)\n",
    "            User4_LUA_frame_total = User4_LUA_frame_total.append(LUA_frame[index], ignore_index=True)\n",
    "            User4_LLA_frame_total = User4_LLA_frame_total.append(LLA_frame[index], ignore_index=True)"
   ]
  },
  {
   "cell_type": "code",
   "execution_count": 14,
   "metadata": {},
   "outputs": [
    {
     "data": {
      "text/plain": [
       "array(['Back'], dtype=object)"
      ]
     },
     "execution_count": 14,
     "metadata": {},
     "output_type": "execute_result"
    }
   ],
   "source": [
    "np.unique(User1_Back_frame_total['Position'])"
   ]
  },
  {
   "cell_type": "markdown",
   "metadata": {},
   "source": [
    "#### User 1 - Label Mapping"
   ]
  },
  {
   "cell_type": "code",
   "execution_count": 15,
   "metadata": {},
   "outputs": [],
   "source": [
    "User1_Back_frame_total.replace({'gt' : { 1:100, 2:200, 4:400, 5:500}}, inplace = True)\n",
    "User1_Back_frame_total.replace({'gt' : { 100:1, 200:3, 400:0, 500:2}}, inplace = True)\n",
    "\n",
    "User1_RUA_frame_total.replace({'gt' : { 1:100, 2:200, 4:400, 5:500}}, inplace = True)\n",
    "User1_RUA_frame_total.replace({'gt' : { 100:1, 200:3, 400:0, 500:2}}, inplace = True)\n",
    "\n",
    "User1_RLA_frame_total.replace({'gt' : { 1:100, 2:200, 4:400, 5:500}}, inplace = True)\n",
    "User1_RLA_frame_total.replace({'gt' : { 100:1, 200:3, 400:0, 500:2}}, inplace = True)\n",
    "\n",
    "User1_LUA_frame_total.replace({'gt' : { 1:100, 2:200, 4:400, 5:500}}, inplace = True)\n",
    "User1_LUA_frame_total.replace({'gt' : { 100:1, 200:3, 400:0, 500:2}}, inplace = True)\n",
    "\n",
    "User1_LLA_frame_total.replace({'gt' : { 1:100, 2:200, 4:400, 5:500}}, inplace = True)\n",
    "User1_LLA_frame_total.replace({'gt' : { 100:1, 200:3, 400:0, 500:2}}, inplace = True)"
   ]
  },
  {
   "cell_type": "code",
   "execution_count": 16,
   "metadata": {
    "scrolled": true
   },
   "outputs": [
    {
     "data": {
      "text/plain": [
       "array([0, 1, 2, 3])"
      ]
     },
     "execution_count": 16,
     "metadata": {},
     "output_type": "execute_result"
    }
   ],
   "source": [
    "np.unique(User1_LLA_frame_total['gt'])"
   ]
  },
  {
   "cell_type": "markdown",
   "metadata": {},
   "source": [
    "#### User 2 - Label Mapping"
   ]
  },
  {
   "cell_type": "code",
   "execution_count": 17,
   "metadata": {},
   "outputs": [],
   "source": [
    "User2_Back_frame_total.replace({'gt' : { 1:100, 2:200, 4:400, 5:500}}, inplace = True)\n",
    "User2_Back_frame_total.replace({'gt' : { 100:1, 200:3, 400:0, 500:2}}, inplace = True)\n",
    "\n",
    "User2_RUA_frame_total.replace({'gt' : { 1:100, 2:200, 4:400, 5:500}}, inplace = True)\n",
    "User2_RUA_frame_total.replace({'gt' : { 100:1, 200:3, 400:0, 500:2}}, inplace = True)\n",
    "\n",
    "User2_RLA_frame_total.replace({'gt' : { 1:100, 2:200, 4:400, 5:500}}, inplace = True)\n",
    "User2_RLA_frame_total.replace({'gt' : { 100:1, 200:3, 400:0, 500:2}}, inplace = True)\n",
    "\n",
    "User2_LUA_frame_total.replace({'gt' : { 1:100, 2:200, 4:400, 5:500}}, inplace = True)\n",
    "User2_LUA_frame_total.replace({'gt' : { 100:1, 200:3, 400:0, 500:2}}, inplace = True)\n",
    "\n",
    "User2_LLA_frame_total.replace({'gt' : { 1:100, 2:200, 4:400, 5:500}}, inplace = True)\n",
    "User2_LLA_frame_total.replace({'gt' : { 100:1, 200:3, 400:0, 500:2}}, inplace = True)"
   ]
  },
  {
   "cell_type": "markdown",
   "metadata": {},
   "source": [
    "#### User 3 - Label Mapping"
   ]
  },
  {
   "cell_type": "code",
   "execution_count": 18,
   "metadata": {},
   "outputs": [],
   "source": [
    "User3_Back_frame_total.replace({'gt' : { 1:100, 2:200, 4:400, 5:500}}, inplace = True)\n",
    "User3_Back_frame_total.replace({'gt' : { 100:1, 200:3, 400:0, 500:2}}, inplace = True)\n",
    "\n",
    "User3_RUA_frame_total.replace({'gt' : { 1:100, 2:200, 4:400, 5:500}}, inplace = True)\n",
    "User3_RUA_frame_total.replace({'gt' : { 100:1, 200:3, 400:0, 500:2}}, inplace = True)\n",
    "\n",
    "User3_RLA_frame_total.replace({'gt' : { 1:100, 2:200, 4:400, 5:500}}, inplace = True)\n",
    "User3_RLA_frame_total.replace({'gt' : { 100:1, 200:3, 400:0, 500:2}}, inplace = True)\n",
    "\n",
    "User3_LUA_frame_total.replace({'gt' : { 1:100, 2:200, 4:400, 5:500}}, inplace = True)\n",
    "User3_LUA_frame_total.replace({'gt' : { 100:1, 200:3, 400:0, 500:2}}, inplace = True)\n",
    "\n",
    "User3_LLA_frame_total.replace({'gt' : { 1:100, 2:200, 4:400, 5:500}}, inplace = True)\n",
    "User3_LLA_frame_total.replace({'gt' : { 100:1, 200:3, 400:0, 500:2}}, inplace = True)"
   ]
  },
  {
   "cell_type": "markdown",
   "metadata": {},
   "source": [
    "#### User 4 - Label Mapping"
   ]
  },
  {
   "cell_type": "code",
   "execution_count": 19,
   "metadata": {},
   "outputs": [],
   "source": [
    "User4_Back_frame_total.replace({'gt' : { 1:100, 2:200, 4:400, 5:500}}, inplace = True)\n",
    "User4_Back_frame_total.replace({'gt' : { 100:1, 200:3, 400:0, 500:2}}, inplace = True)\n",
    "\n",
    "User4_RUA_frame_total.replace({'gt' : { 1:100, 2:200, 4:400, 5:500}}, inplace = True)\n",
    "User4_RUA_frame_total.replace({'gt' : { 100:1, 200:3, 400:0, 500:2}}, inplace = True)\n",
    "\n",
    "User4_RLA_frame_total.replace({'gt' : { 1:100, 2:200, 4:400, 5:500}}, inplace = True)\n",
    "User4_RLA_frame_total.replace({'gt' : { 100:1, 200:3, 400:0, 500:2}}, inplace = True)\n",
    "\n",
    "User4_LUA_frame_total.replace({'gt' : { 1:100, 2:200, 4:400, 5:500}}, inplace = True)\n",
    "User4_LUA_frame_total.replace({'gt' : { 100:1, 200:3, 400:0, 500:2}}, inplace = True)\n",
    "\n",
    "User4_LLA_frame_total.replace({'gt' : { 1:100, 2:200, 4:400, 5:500}}, inplace = True)\n",
    "User4_LLA_frame_total.replace({'gt' : { 100:1, 200:3, 400:0, 500:2}}, inplace = True)"
   ]
  },
  {
   "cell_type": "markdown",
   "metadata": {},
   "source": [
    "### User Specific, Position-wise Standardization and Normalization"
   ]
  },
  {
   "cell_type": "markdown",
   "metadata": {},
   "source": [
    "#### User 1 - Back"
   ]
  },
  {
   "cell_type": "code",
   "execution_count": 20,
   "metadata": {},
   "outputs": [],
   "source": [
    "person_gt = np.array(User1_Back_frame_total['Person'])\n",
    "gt = np.array(User1_Back_frame_total['gt'])\n",
    "position_gt = np.array(User1_Back_frame_total['Position'])\n",
    "\n",
    "User1_Back_frame_total.drop(['Person','gt','Position'], axis=1, inplace=True)\n",
    "column_name = User1_Back_frame_total.columns\n",
    "\n",
    "scaler = preprocessing.StandardScaler()\n",
    "df_standardized = scaler.fit_transform(User1_Back_frame_total)\n",
    "User1_Back_frame_total = pd.DataFrame(df_standardized)\n",
    "\n",
    "min_max_scaler = preprocessing.MinMaxScaler()\n",
    "np_scaled = min_max_scaler.fit_transform(User1_Back_frame_total)\n",
    "User1_Back_frame_total = pd.DataFrame(np_scaled, columns=column_name)\n",
    "\n",
    "User1_Back_frame_total[\"Person\"] = person_gt\n",
    "User1_Back_frame_total[\"gt\"] = gt\n",
    "User1_Back_frame_total[\"Position\"] = position_gt\n"
   ]
  },
  {
   "cell_type": "code",
   "execution_count": 21,
   "metadata": {},
   "outputs": [
    {
     "data": {
      "text/plain": [
       "array([0, 1, 2, 3])"
      ]
     },
     "execution_count": 21,
     "metadata": {},
     "output_type": "execute_result"
    }
   ],
   "source": [
    "np.unique(User1_Back_frame_total['gt'])"
   ]
  },
  {
   "cell_type": "code",
   "execution_count": 22,
   "metadata": {},
   "outputs": [
    {
     "data": {
      "text/plain": [
       "array([1], dtype=object)"
      ]
     },
     "execution_count": 22,
     "metadata": {},
     "output_type": "execute_result"
    }
   ],
   "source": [
    "np.unique(User1_Back_frame_total['Person'])"
   ]
  },
  {
   "cell_type": "code",
   "execution_count": 23,
   "metadata": {},
   "outputs": [
    {
     "data": {
      "text/plain": [
       "array(['Back'], dtype=object)"
      ]
     },
     "execution_count": 23,
     "metadata": {},
     "output_type": "execute_result"
    }
   ],
   "source": [
    "np.unique(User1_Back_frame_total['Position'])"
   ]
  },
  {
   "cell_type": "markdown",
   "metadata": {},
   "source": [
    "#### User 2 - Back"
   ]
  },
  {
   "cell_type": "code",
   "execution_count": 24,
   "metadata": {},
   "outputs": [],
   "source": [
    "person_gt = np.array(User2_Back_frame_total['Person'])\n",
    "gt = np.array(User2_Back_frame_total['gt'])\n",
    "position_gt = np.array(User2_Back_frame_total['Position'])\n",
    "\n",
    "User2_Back_frame_total.drop(['Person','gt','Position'], axis=1, inplace=True)\n",
    "column_name = User2_Back_frame_total.columns\n",
    "\n",
    "scaler = preprocessing.StandardScaler()\n",
    "df_standardized = scaler.fit_transform(User2_Back_frame_total)\n",
    "User2_Back_frame_total = pd.DataFrame(df_standardized)\n",
    "\n",
    "min_max_scaler = preprocessing.MinMaxScaler()\n",
    "np_scaled = min_max_scaler.fit_transform(User2_Back_frame_total)\n",
    "User2_Back_frame_total = pd.DataFrame(np_scaled, columns=column_name)\n",
    "\n",
    "User2_Back_frame_total[\"Person\"] = person_gt\n",
    "User2_Back_frame_total[\"gt\"] = gt\n",
    "User2_Back_frame_total[\"Position\"] = position_gt"
   ]
  },
  {
   "cell_type": "markdown",
   "metadata": {},
   "source": [
    "#### User 3 - Back"
   ]
  },
  {
   "cell_type": "code",
   "execution_count": 25,
   "metadata": {},
   "outputs": [],
   "source": [
    "\n",
    "person_gt = np.array(User3_Back_frame_total['Person'])\n",
    "gt = np.array(User3_Back_frame_total['gt'])\n",
    "position_gt = np.array(User3_Back_frame_total['Position'])\n",
    "\n",
    "User3_Back_frame_total.drop(['Person','gt','Position'], axis=1, inplace=True)\n",
    "column_name = User3_Back_frame_total.columns\n",
    "\n",
    "scaler = preprocessing.StandardScaler()\n",
    "df_standardized = scaler.fit_transform(User3_Back_frame_total)\n",
    "User3_Back_frame_total = pd.DataFrame(df_standardized)\n",
    "\n",
    "min_max_scaler = preprocessing.MinMaxScaler()\n",
    "np_scaled = min_max_scaler.fit_transform(User3_Back_frame_total)\n",
    "User3_Back_frame_total = pd.DataFrame(np_scaled, columns=column_name)\n",
    "\n",
    "User3_Back_frame_total[\"Person\"] = person_gt\n",
    "User3_Back_frame_total[\"gt\"] = gt\n",
    "User3_Back_frame_total[\"Position\"] = position_gt"
   ]
  },
  {
   "cell_type": "markdown",
   "metadata": {},
   "source": [
    "#### User 4 - Back"
   ]
  },
  {
   "cell_type": "code",
   "execution_count": 26,
   "metadata": {},
   "outputs": [],
   "source": [
    "person_gt = np.array(User4_Back_frame_total['Person'])\n",
    "gt = np.array(User4_Back_frame_total['gt'])\n",
    "position_gt = np.array(User4_Back_frame_total['Position'])\n",
    "\n",
    "User4_Back_frame_total.drop(['Person','gt','Position'], axis=1, inplace=True)\n",
    "column_name = User4_Back_frame_total.columns\n",
    "\n",
    "scaler = preprocessing.StandardScaler()\n",
    "df_standardized = scaler.fit_transform(User4_Back_frame_total)\n",
    "User4_Back_frame_total = pd.DataFrame(df_standardized)\n",
    "\n",
    "min_max_scaler = preprocessing.MinMaxScaler()\n",
    "np_scaled = min_max_scaler.fit_transform(User4_Back_frame_total)\n",
    "User4_Back_frame_total = pd.DataFrame(np_scaled, columns=column_name)\n",
    "\n",
    "User4_Back_frame_total[\"Person\"] = person_gt\n",
    "User4_Back_frame_total[\"gt\"] = gt\n",
    "User4_Back_frame_total[\"Position\"] = position_gt"
   ]
  },
  {
   "cell_type": "code",
   "execution_count": 27,
   "metadata": {},
   "outputs": [
    {
     "data": {
      "text/html": [
       "<div>\n",
       "<style scoped>\n",
       "    .dataframe tbody tr th:only-of-type {\n",
       "        vertical-align: middle;\n",
       "    }\n",
       "\n",
       "    .dataframe tbody tr th {\n",
       "        vertical-align: top;\n",
       "    }\n",
       "\n",
       "    .dataframe thead th {\n",
       "        text-align: right;\n",
       "    }\n",
       "</style>\n",
       "<table border=\"1\" class=\"dataframe\">\n",
       "  <thead>\n",
       "    <tr style=\"text-align: right;\">\n",
       "      <th></th>\n",
       "      <th>Acc_x</th>\n",
       "      <th>Acc_y</th>\n",
       "      <th>Acc_z</th>\n",
       "      <th>Person</th>\n",
       "      <th>gt</th>\n",
       "      <th>Position</th>\n",
       "    </tr>\n",
       "  </thead>\n",
       "  <tbody>\n",
       "    <tr>\n",
       "      <th>0</th>\n",
       "      <td>0.384076</td>\n",
       "      <td>0.547242</td>\n",
       "      <td>0.607114</td>\n",
       "      <td>4</td>\n",
       "      <td>3</td>\n",
       "      <td>Back</td>\n",
       "    </tr>\n",
       "    <tr>\n",
       "      <th>1</th>\n",
       "      <td>0.366337</td>\n",
       "      <td>0.546387</td>\n",
       "      <td>0.611202</td>\n",
       "      <td>4</td>\n",
       "      <td>3</td>\n",
       "      <td>Back</td>\n",
       "    </tr>\n",
       "    <tr>\n",
       "      <th>2</th>\n",
       "      <td>0.360149</td>\n",
       "      <td>0.548953</td>\n",
       "      <td>0.605887</td>\n",
       "      <td>4</td>\n",
       "      <td>3</td>\n",
       "      <td>Back</td>\n",
       "    </tr>\n",
       "    <tr>\n",
       "      <th>3</th>\n",
       "      <td>0.356023</td>\n",
       "      <td>0.548953</td>\n",
       "      <td>0.602208</td>\n",
       "      <td>4</td>\n",
       "      <td>3</td>\n",
       "      <td>Back</td>\n",
       "    </tr>\n",
       "    <tr>\n",
       "      <th>4</th>\n",
       "      <td>0.352723</td>\n",
       "      <td>0.545105</td>\n",
       "      <td>0.597711</td>\n",
       "      <td>4</td>\n",
       "      <td>3</td>\n",
       "      <td>Back</td>\n",
       "    </tr>\n",
       "  </tbody>\n",
       "</table>\n",
       "</div>"
      ],
      "text/plain": [
       "      Acc_x     Acc_y     Acc_z Person  gt Position\n",
       "0  0.384076  0.547242  0.607114      4   3     Back\n",
       "1  0.366337  0.546387  0.611202      4   3     Back\n",
       "2  0.360149  0.548953  0.605887      4   3     Back\n",
       "3  0.356023  0.548953  0.602208      4   3     Back\n",
       "4  0.352723  0.545105  0.597711      4   3     Back"
      ]
     },
     "execution_count": 27,
     "metadata": {},
     "output_type": "execute_result"
    }
   ],
   "source": [
    "User4_Back_frame_total.head()"
   ]
  },
  {
   "cell_type": "code",
   "execution_count": 28,
   "metadata": {},
   "outputs": [
    {
     "data": {
      "text/plain": [
       "1.0"
      ]
     },
     "execution_count": 28,
     "metadata": {},
     "output_type": "execute_result"
    }
   ],
   "source": [
    "np.max(User4_Back_frame_total['Acc_x'])"
   ]
  },
  {
   "cell_type": "markdown",
   "metadata": {},
   "source": [
    "#### User1-RUA"
   ]
  },
  {
   "cell_type": "code",
   "execution_count": 29,
   "metadata": {},
   "outputs": [],
   "source": [
    "person_gt = np.array(User1_RUA_frame_total['Person'])\n",
    "gt = np.array(User1_RUA_frame_total['gt'])\n",
    "position_gt = np.array(User1_RUA_frame_total['Position'])\n",
    "\n",
    "User1_RUA_frame_total.drop(['Person','gt','Position'], axis=1, inplace=True)\n",
    "column_name = User1_RUA_frame_total.columns\n",
    "\n",
    "scaler = preprocessing.StandardScaler()\n",
    "df_standardized = scaler.fit_transform(User1_RUA_frame_total)\n",
    "User1_RUA_frame_total = pd.DataFrame(df_standardized)\n",
    "\n",
    "min_max_scaler = preprocessing.MinMaxScaler()\n",
    "np_scaled = min_max_scaler.fit_transform(User1_RUA_frame_total)\n",
    "User1_RUA_frame_total = pd.DataFrame(np_scaled, columns=column_name)\n",
    "\n",
    "User1_RUA_frame_total[\"Person\"] = person_gt\n",
    "User1_RUA_frame_total[\"gt\"] = gt\n",
    "User1_RUA_frame_total[\"Position\"] = position_gt"
   ]
  },
  {
   "cell_type": "markdown",
   "metadata": {},
   "source": [
    "#### User2 - RUA"
   ]
  },
  {
   "cell_type": "code",
   "execution_count": 30,
   "metadata": {},
   "outputs": [],
   "source": [
    "person_gt = np.array(User2_RUA_frame_total['Person'])\n",
    "gt = np.array(User2_RUA_frame_total['gt'])\n",
    "position_gt = np.array(User2_RUA_frame_total['Position'])\n",
    "\n",
    "User2_RUA_frame_total.drop(['Person','gt','Position'], axis=1, inplace=True)\n",
    "column_name = User2_RUA_frame_total.columns\n",
    "\n",
    "scaler = preprocessing.StandardScaler()\n",
    "df_standardized = scaler.fit_transform(User2_RUA_frame_total)\n",
    "User2_RUA_frame_total = pd.DataFrame(df_standardized)\n",
    "\n",
    "min_max_scaler = preprocessing.MinMaxScaler()\n",
    "np_scaled = min_max_scaler.fit_transform(User2_RUA_frame_total)\n",
    "User2_RUA_frame_total = pd.DataFrame(np_scaled, columns=column_name)\n",
    "\n",
    "User2_RUA_frame_total[\"Person\"] = person_gt\n",
    "User2_RUA_frame_total[\"gt\"] = gt\n",
    "User2_RUA_frame_total[\"Position\"] = position_gt"
   ]
  },
  {
   "cell_type": "markdown",
   "metadata": {},
   "source": [
    "#### User3 - RUA"
   ]
  },
  {
   "cell_type": "code",
   "execution_count": 31,
   "metadata": {},
   "outputs": [],
   "source": [
    "person_gt = np.array(User3_RUA_frame_total['Person'])\n",
    "gt = np.array(User3_RUA_frame_total['gt'])\n",
    "position_gt = np.array(User3_RUA_frame_total['Position'])\n",
    "\n",
    "User3_RUA_frame_total.drop(['Person','gt','Position'], axis=1, inplace=True)\n",
    "column_name = User3_RUA_frame_total.columns\n",
    "\n",
    "scaler = preprocessing.StandardScaler()\n",
    "df_standardized = scaler.fit_transform(User3_RUA_frame_total)\n",
    "User3_RUA_frame_total = pd.DataFrame(df_standardized)\n",
    "\n",
    "min_max_scaler = preprocessing.MinMaxScaler()\n",
    "np_scaled = min_max_scaler.fit_transform(User3_RUA_frame_total)\n",
    "User3_RUA_frame_total = pd.DataFrame(np_scaled, columns=column_name)\n",
    "\n",
    "User3_RUA_frame_total[\"Person\"] = person_gt\n",
    "User3_RUA_frame_total[\"gt\"] = gt\n",
    "User3_RUA_frame_total[\"Position\"] = position_gt"
   ]
  },
  {
   "cell_type": "markdown",
   "metadata": {},
   "source": [
    "#### USer4 - RUA"
   ]
  },
  {
   "cell_type": "code",
   "execution_count": 32,
   "metadata": {},
   "outputs": [],
   "source": [
    "person_gt = np.array(User4_RUA_frame_total['Person'])\n",
    "gt = np.array(User4_RUA_frame_total['gt'])\n",
    "position_gt = np.array(User4_RUA_frame_total['Position'])\n",
    "\n",
    "User4_RUA_frame_total.drop(['Person','gt','Position'], axis=1, inplace=True)\n",
    "column_name = User4_RUA_frame_total.columns\n",
    "\n",
    "scaler = preprocessing.StandardScaler()\n",
    "df_standardized = scaler.fit_transform(User4_RUA_frame_total)\n",
    "User4_RUA_frame_total = pd.DataFrame(df_standardized)\n",
    "\n",
    "min_max_scaler = preprocessing.MinMaxScaler()\n",
    "np_scaled = min_max_scaler.fit_transform(User4_RUA_frame_total)\n",
    "User4_RUA_frame_total = pd.DataFrame(np_scaled, columns=column_name)\n",
    "\n",
    "User4_RUA_frame_total[\"Person\"] = person_gt\n",
    "User4_RUA_frame_total[\"gt\"] = gt\n",
    "User4_RUA_frame_total[\"Position\"] = position_gt"
   ]
  },
  {
   "cell_type": "markdown",
   "metadata": {},
   "source": [
    "#### User 1 - RLA"
   ]
  },
  {
   "cell_type": "code",
   "execution_count": 33,
   "metadata": {},
   "outputs": [],
   "source": [
    "person_gt = np.array(User1_RLA_frame_total['Person'])\n",
    "gt = np.array(User1_RLA_frame_total['gt'])\n",
    "position_gt = np.array(User1_RLA_frame_total['Position'])\n",
    "\n",
    "User1_RLA_frame_total.drop(['Person','gt','Position'], axis=1, inplace=True)\n",
    "column_name = User1_RLA_frame_total.columns\n",
    "\n",
    "scaler = preprocessing.StandardScaler()\n",
    "df_standardized = scaler.fit_transform(User1_RLA_frame_total)\n",
    "User1_RLA_frame_total = pd.DataFrame(df_standardized)\n",
    "\n",
    "min_max_scaler = preprocessing.MinMaxScaler()\n",
    "np_scaled = min_max_scaler.fit_transform(User1_RLA_frame_total)\n",
    "User1_RLA_frame_total = pd.DataFrame(np_scaled, columns=column_name)\n",
    "\n",
    "User1_RLA_frame_total[\"Person\"] = person_gt\n",
    "User1_RLA_frame_total[\"gt\"] = gt\n",
    "User1_RLA_frame_total[\"Position\"] = position_gt"
   ]
  },
  {
   "cell_type": "markdown",
   "metadata": {},
   "source": [
    "#### User 2 - RLA"
   ]
  },
  {
   "cell_type": "code",
   "execution_count": 34,
   "metadata": {},
   "outputs": [],
   "source": [
    "person_gt = np.array(User2_RLA_frame_total['Person'])\n",
    "gt = np.array(User2_RLA_frame_total['gt'])\n",
    "position_gt = np.array(User2_RLA_frame_total['Position'])\n",
    "\n",
    "User2_RLA_frame_total.drop(['Person','gt','Position'], axis=1, inplace=True)\n",
    "column_name = User2_RLA_frame_total.columns\n",
    "\n",
    "scaler = preprocessing.StandardScaler()\n",
    "df_standardized = scaler.fit_transform(User2_RLA_frame_total)\n",
    "User2_RLA_frame_total = pd.DataFrame(df_standardized)\n",
    "\n",
    "min_max_scaler = preprocessing.MinMaxScaler()\n",
    "np_scaled = min_max_scaler.fit_transform(User2_RLA_frame_total)\n",
    "User2_RLA_frame_total = pd.DataFrame(np_scaled, columns=column_name)\n",
    "\n",
    "User2_RLA_frame_total[\"Person\"] = person_gt\n",
    "User2_RLA_frame_total[\"gt\"] = gt\n",
    "User2_RLA_frame_total[\"Position\"] = position_gt"
   ]
  },
  {
   "cell_type": "markdown",
   "metadata": {},
   "source": [
    "#### User 3 - RLA"
   ]
  },
  {
   "cell_type": "code",
   "execution_count": 35,
   "metadata": {},
   "outputs": [],
   "source": [
    "person_gt = np.array(User3_RLA_frame_total['Person'])\n",
    "gt = np.array(User3_RLA_frame_total['gt'])\n",
    "position_gt = np.array(User3_RLA_frame_total['Position'])\n",
    "\n",
    "User3_RLA_frame_total.drop(['Person','gt','Position'], axis=1, inplace=True)\n",
    "column_name = User3_RLA_frame_total.columns\n",
    "\n",
    "scaler = preprocessing.StandardScaler()\n",
    "df_standardized = scaler.fit_transform(User3_RLA_frame_total)\n",
    "User3_RLA_frame_total = pd.DataFrame(df_standardized)\n",
    "\n",
    "min_max_scaler = preprocessing.MinMaxScaler()\n",
    "np_scaled = min_max_scaler.fit_transform(User3_RLA_frame_total)\n",
    "User3_RLA_frame_total = pd.DataFrame(np_scaled, columns=column_name)\n",
    "\n",
    "User3_RLA_frame_total[\"Person\"] = person_gt\n",
    "User3_RLA_frame_total[\"gt\"] = gt\n",
    "User3_RLA_frame_total[\"Position\"] = position_gt"
   ]
  },
  {
   "cell_type": "markdown",
   "metadata": {},
   "source": [
    "#### User 4 - RLA"
   ]
  },
  {
   "cell_type": "code",
   "execution_count": 36,
   "metadata": {},
   "outputs": [],
   "source": [
    "person_gt = np.array(User4_RLA_frame_total['Person'])\n",
    "gt = np.array(User4_RLA_frame_total['gt'])\n",
    "position_gt = np.array(User4_RLA_frame_total['Position'])\n",
    "\n",
    "User4_RLA_frame_total.drop(['Person','gt','Position'], axis=1, inplace=True)\n",
    "column_name = User4_RLA_frame_total.columns\n",
    "\n",
    "scaler = preprocessing.StandardScaler()\n",
    "df_standardized = scaler.fit_transform(User4_RLA_frame_total)\n",
    "User4_RLA_frame_total = pd.DataFrame(df_standardized)\n",
    "\n",
    "min_max_scaler = preprocessing.MinMaxScaler()\n",
    "np_scaled = min_max_scaler.fit_transform(User4_RLA_frame_total)\n",
    "User4_RLA_frame_total = pd.DataFrame(np_scaled, columns=column_name)\n",
    "\n",
    "User4_RLA_frame_total[\"Person\"] = person_gt\n",
    "User4_RLA_frame_total[\"gt\"] = gt\n",
    "User4_RLA_frame_total[\"Position\"] = position_gt"
   ]
  },
  {
   "cell_type": "markdown",
   "metadata": {},
   "source": [
    "#### User 1 - LUA"
   ]
  },
  {
   "cell_type": "code",
   "execution_count": 37,
   "metadata": {},
   "outputs": [],
   "source": [
    "person_gt = np.array(User1_LUA_frame_total['Person'])\n",
    "gt = np.array(User1_LUA_frame_total['gt'])\n",
    "position_gt = np.array(User1_LUA_frame_total['Position'])\n",
    "\n",
    "User1_LUA_frame_total.drop(['Person','gt','Position'], axis=1, inplace=True)\n",
    "column_name = User1_LUA_frame_total.columns\n",
    "\n",
    "scaler = preprocessing.StandardScaler()\n",
    "df_standardized = scaler.fit_transform(User1_LUA_frame_total)\n",
    "User1_LUA_frame_total = pd.DataFrame(df_standardized)\n",
    "\n",
    "min_max_scaler = preprocessing.MinMaxScaler()\n",
    "np_scaled = min_max_scaler.fit_transform(User1_LUA_frame_total)\n",
    "User1_LUA_frame_total = pd.DataFrame(np_scaled, columns=column_name)\n",
    "\n",
    "User1_LUA_frame_total[\"Person\"] = person_gt\n",
    "User1_LUA_frame_total[\"gt\"] = gt\n",
    "User1_LUA_frame_total[\"Position\"] = position_gt"
   ]
  },
  {
   "cell_type": "markdown",
   "metadata": {},
   "source": [
    "#### User 2 - LUA"
   ]
  },
  {
   "cell_type": "code",
   "execution_count": 38,
   "metadata": {},
   "outputs": [],
   "source": [
    "person_gt = np.array(User2_LUA_frame_total['Person'])\n",
    "gt = np.array(User2_LUA_frame_total['gt'])\n",
    "position_gt = np.array(User2_LUA_frame_total['Position'])\n",
    "\n",
    "User2_LUA_frame_total.drop(['Person','gt','Position'], axis=1, inplace=True)\n",
    "column_name = User2_LUA_frame_total.columns\n",
    "\n",
    "scaler = preprocessing.StandardScaler()\n",
    "df_standardized = scaler.fit_transform(User2_LUA_frame_total)\n",
    "User2_LUA_frame_total = pd.DataFrame(df_standardized)\n",
    "\n",
    "min_max_scaler = preprocessing.MinMaxScaler()\n",
    "np_scaled = min_max_scaler.fit_transform(User2_LUA_frame_total)\n",
    "User2_LUA_frame_total = pd.DataFrame(np_scaled, columns=column_name)\n",
    "\n",
    "User2_LUA_frame_total[\"Person\"] = person_gt\n",
    "User2_LUA_frame_total[\"gt\"] = gt\n",
    "User2_LUA_frame_total[\"Position\"] = position_gt"
   ]
  },
  {
   "cell_type": "markdown",
   "metadata": {},
   "source": [
    "#### User 3 - LUA"
   ]
  },
  {
   "cell_type": "code",
   "execution_count": 39,
   "metadata": {},
   "outputs": [],
   "source": [
    "person_gt = np.array(User3_LUA_frame_total['Person'])\n",
    "gt = np.array(User3_LUA_frame_total['gt'])\n",
    "position_gt = np.array(User3_LUA_frame_total['Position'])\n",
    "\n",
    "User3_LUA_frame_total.drop(['Person','gt','Position'], axis=1, inplace=True)\n",
    "column_name = User3_LUA_frame_total.columns\n",
    "\n",
    "scaler = preprocessing.StandardScaler()\n",
    "df_standardized = scaler.fit_transform(User3_LUA_frame_total)\n",
    "User3_LUA_frame_total = pd.DataFrame(df_standardized)\n",
    "\n",
    "min_max_scaler = preprocessing.MinMaxScaler()\n",
    "np_scaled = min_max_scaler.fit_transform(User3_LUA_frame_total)\n",
    "User3_LUA_frame_total = pd.DataFrame(np_scaled, columns=column_name)\n",
    "\n",
    "User3_LUA_frame_total[\"Person\"] = person_gt\n",
    "User3_LUA_frame_total[\"gt\"] = gt\n",
    "User3_LUA_frame_total[\"Position\"] = position_gt"
   ]
  },
  {
   "cell_type": "markdown",
   "metadata": {},
   "source": [
    "#### User 4 - LUA"
   ]
  },
  {
   "cell_type": "code",
   "execution_count": 40,
   "metadata": {},
   "outputs": [],
   "source": [
    "person_gt = np.array(User4_LUA_frame_total['Person'])\n",
    "gt = np.array(User4_LUA_frame_total['gt'])\n",
    "position_gt = np.array(User4_LUA_frame_total['Position'])\n",
    "\n",
    "User4_LUA_frame_total.drop(['Person','gt','Position'], axis=1, inplace=True)\n",
    "column_name = User4_LUA_frame_total.columns\n",
    "\n",
    "scaler = preprocessing.StandardScaler()\n",
    "df_standardized = scaler.fit_transform(User4_LUA_frame_total)\n",
    "User4_LUA_frame_total = pd.DataFrame(df_standardized)\n",
    "\n",
    "min_max_scaler = preprocessing.MinMaxScaler()\n",
    "np_scaled = min_max_scaler.fit_transform(User4_LUA_frame_total)\n",
    "User4_LUA_frame_total = pd.DataFrame(np_scaled, columns=column_name)\n",
    "\n",
    "User4_LUA_frame_total[\"Person\"] = person_gt\n",
    "User4_LUA_frame_total[\"gt\"] = gt\n",
    "User4_LUA_frame_total[\"Position\"] = position_gt"
   ]
  },
  {
   "cell_type": "markdown",
   "metadata": {},
   "source": [
    "#### User 1 - LLA"
   ]
  },
  {
   "cell_type": "code",
   "execution_count": 41,
   "metadata": {},
   "outputs": [],
   "source": [
    "person_gt = np.array(User1_LLA_frame_total['Person'])\n",
    "gt = np.array(User1_LLA_frame_total['gt'])\n",
    "position_gt = np.array(User1_LLA_frame_total['Position'])\n",
    "\n",
    "User1_LLA_frame_total.drop(['Person','gt','Position'], axis=1, inplace=True)\n",
    "column_name = User1_LLA_frame_total.columns\n",
    "\n",
    "scaler = preprocessing.StandardScaler()\n",
    "df_standardized = scaler.fit_transform(User1_LLA_frame_total)\n",
    "User1_LLA_frame_total = pd.DataFrame(df_standardized)\n",
    "\n",
    "min_max_scaler = preprocessing.MinMaxScaler()\n",
    "np_scaled = min_max_scaler.fit_transform(User1_LLA_frame_total)\n",
    "User1_LLA_frame_total = pd.DataFrame(np_scaled, columns=column_name)\n",
    "\n",
    "User1_LLA_frame_total[\"Person\"] = person_gt\n",
    "User1_LLA_frame_total[\"gt\"] = gt\n",
    "User1_LLA_frame_total[\"Position\"] = position_gt"
   ]
  },
  {
   "cell_type": "markdown",
   "metadata": {},
   "source": [
    "#### User 2 - LLA"
   ]
  },
  {
   "cell_type": "code",
   "execution_count": 42,
   "metadata": {},
   "outputs": [],
   "source": [
    "person_gt = np.array(User2_LLA_frame_total['Person'])\n",
    "gt = np.array(User2_LLA_frame_total['gt'])\n",
    "position_gt = np.array(User2_LLA_frame_total['Position'])\n",
    "\n",
    "User2_LLA_frame_total.drop(['Person','gt','Position'], axis=1, inplace=True)\n",
    "column_name = User2_LLA_frame_total.columns\n",
    "\n",
    "scaler = preprocessing.StandardScaler()\n",
    "df_standardized = scaler.fit_transform(User2_LLA_frame_total)\n",
    "User2_LLA_frame_total = pd.DataFrame(df_standardized)\n",
    "\n",
    "min_max_scaler = preprocessing.MinMaxScaler()\n",
    "np_scaled = min_max_scaler.fit_transform(User2_LLA_frame_total)\n",
    "User2_LLA_frame_total = pd.DataFrame(np_scaled, columns=column_name)\n",
    "\n",
    "User2_LLA_frame_total[\"Person\"] = person_gt\n",
    "User2_LLA_frame_total[\"gt\"] = gt\n",
    "User2_LLA_frame_total[\"Position\"] = position_gt"
   ]
  },
  {
   "cell_type": "markdown",
   "metadata": {},
   "source": [
    "#### User 3 - LLA"
   ]
  },
  {
   "cell_type": "code",
   "execution_count": 43,
   "metadata": {},
   "outputs": [],
   "source": [
    "person_gt = np.array(User3_LLA_frame_total['Person'])\n",
    "gt = np.array(User3_LLA_frame_total['gt'])\n",
    "position_gt = np.array(User3_LLA_frame_total['Position'])\n",
    "\n",
    "User3_LLA_frame_total.drop(['Person','gt','Position'], axis=1, inplace=True)\n",
    "column_name = User3_LLA_frame_total.columns\n",
    "\n",
    "scaler = preprocessing.StandardScaler()\n",
    "df_standardized = scaler.fit_transform(User3_LLA_frame_total)\n",
    "User3_LLA_frame_total = pd.DataFrame(df_standardized)\n",
    "\n",
    "min_max_scaler = preprocessing.MinMaxScaler()\n",
    "np_scaled = min_max_scaler.fit_transform(User3_LLA_frame_total)\n",
    "User3_LLA_frame_total = pd.DataFrame(np_scaled, columns=column_name)\n",
    "\n",
    "User3_LLA_frame_total[\"Person\"] = person_gt\n",
    "User3_LLA_frame_total[\"gt\"] = gt\n",
    "User3_LLA_frame_total[\"Position\"] = position_gt"
   ]
  },
  {
   "cell_type": "markdown",
   "metadata": {},
   "source": [
    "#### User 4 - LLA"
   ]
  },
  {
   "cell_type": "code",
   "execution_count": 44,
   "metadata": {},
   "outputs": [],
   "source": [
    "person_gt = np.array(User4_LLA_frame_total['Person'])\n",
    "gt = np.array(User4_LLA_frame_total['gt'])\n",
    "position_gt = np.array(User4_LLA_frame_total['Position'])\n",
    "\n",
    "User4_LLA_frame_total.drop(['Person','gt','Position'], axis=1, inplace=True)\n",
    "column_name = User4_LLA_frame_total.columns\n",
    "\n",
    "scaler = preprocessing.StandardScaler()\n",
    "df_standardized = scaler.fit_transform(User4_LLA_frame_total)\n",
    "User4_LLA_frame_total = pd.DataFrame(df_standardized)\n",
    "\n",
    "min_max_scaler = preprocessing.MinMaxScaler()\n",
    "np_scaled = min_max_scaler.fit_transform(User4_LLA_frame_total)\n",
    "User4_LLA_frame_total = pd.DataFrame(np_scaled, columns=column_name)\n",
    "\n",
    "User4_LLA_frame_total[\"Person\"] = person_gt\n",
    "User4_LLA_frame_total[\"gt\"] = gt\n",
    "User4_LLA_frame_total[\"Position\"] = position_gt"
   ]
  },
  {
   "cell_type": "code",
   "execution_count": 45,
   "metadata": {},
   "outputs": [
    {
     "data": {
      "text/html": [
       "<div>\n",
       "<style scoped>\n",
       "    .dataframe tbody tr th:only-of-type {\n",
       "        vertical-align: middle;\n",
       "    }\n",
       "\n",
       "    .dataframe tbody tr th {\n",
       "        vertical-align: top;\n",
       "    }\n",
       "\n",
       "    .dataframe thead th {\n",
       "        text-align: right;\n",
       "    }\n",
       "</style>\n",
       "<table border=\"1\" class=\"dataframe\">\n",
       "  <thead>\n",
       "    <tr style=\"text-align: right;\">\n",
       "      <th></th>\n",
       "      <th>Acc_x</th>\n",
       "      <th>Acc_y</th>\n",
       "      <th>Acc_z</th>\n",
       "      <th>Person</th>\n",
       "      <th>gt</th>\n",
       "      <th>Position</th>\n",
       "    </tr>\n",
       "  </thead>\n",
       "  <tbody>\n",
       "    <tr>\n",
       "      <th>0</th>\n",
       "      <td>0.371652</td>\n",
       "      <td>0.544101</td>\n",
       "      <td>0.618598</td>\n",
       "      <td>1</td>\n",
       "      <td>1</td>\n",
       "      <td>Left Lower Arm</td>\n",
       "    </tr>\n",
       "    <tr>\n",
       "      <th>1</th>\n",
       "      <td>0.372768</td>\n",
       "      <td>0.542968</td>\n",
       "      <td>0.620122</td>\n",
       "      <td>1</td>\n",
       "      <td>1</td>\n",
       "      <td>Left Lower Arm</td>\n",
       "    </tr>\n",
       "    <tr>\n",
       "      <th>2</th>\n",
       "      <td>0.372210</td>\n",
       "      <td>0.543615</td>\n",
       "      <td>0.621951</td>\n",
       "      <td>1</td>\n",
       "      <td>1</td>\n",
       "      <td>Left Lower Arm</td>\n",
       "    </tr>\n",
       "    <tr>\n",
       "      <th>3</th>\n",
       "      <td>0.372489</td>\n",
       "      <td>0.543292</td>\n",
       "      <td>0.624695</td>\n",
       "      <td>1</td>\n",
       "      <td>1</td>\n",
       "      <td>Left Lower Arm</td>\n",
       "    </tr>\n",
       "    <tr>\n",
       "      <th>4</th>\n",
       "      <td>0.371931</td>\n",
       "      <td>0.542321</td>\n",
       "      <td>0.625610</td>\n",
       "      <td>1</td>\n",
       "      <td>1</td>\n",
       "      <td>Left Lower Arm</td>\n",
       "    </tr>\n",
       "  </tbody>\n",
       "</table>\n",
       "</div>"
      ],
      "text/plain": [
       "      Acc_x     Acc_y     Acc_z Person  gt        Position\n",
       "0  0.371652  0.544101  0.618598      1   1  Left Lower Arm\n",
       "1  0.372768  0.542968  0.620122      1   1  Left Lower Arm\n",
       "2  0.372210  0.543615  0.621951      1   1  Left Lower Arm\n",
       "3  0.372489  0.543292  0.624695      1   1  Left Lower Arm\n",
       "4  0.371931  0.542321  0.625610      1   1  Left Lower Arm"
      ]
     },
     "execution_count": 45,
     "metadata": {},
     "output_type": "execute_result"
    }
   ],
   "source": [
    "User1_LLA_frame_total.head()"
   ]
  },
  {
   "cell_type": "code",
   "execution_count": 46,
   "metadata": {},
   "outputs": [
    {
     "data": {
      "text/html": [
       "<div>\n",
       "<style scoped>\n",
       "    .dataframe tbody tr th:only-of-type {\n",
       "        vertical-align: middle;\n",
       "    }\n",
       "\n",
       "    .dataframe tbody tr th {\n",
       "        vertical-align: top;\n",
       "    }\n",
       "\n",
       "    .dataframe thead th {\n",
       "        text-align: right;\n",
       "    }\n",
       "</style>\n",
       "<table border=\"1\" class=\"dataframe\">\n",
       "  <thead>\n",
       "    <tr style=\"text-align: right;\">\n",
       "      <th></th>\n",
       "      <th>Acc_x</th>\n",
       "      <th>Acc_y</th>\n",
       "      <th>Acc_z</th>\n",
       "      <th>Person</th>\n",
       "      <th>gt</th>\n",
       "      <th>Position</th>\n",
       "    </tr>\n",
       "  </thead>\n",
       "  <tbody>\n",
       "    <tr>\n",
       "      <th>134608</th>\n",
       "      <td>0.383092</td>\n",
       "      <td>0.541512</td>\n",
       "      <td>0.612500</td>\n",
       "      <td>1</td>\n",
       "      <td>3</td>\n",
       "      <td>Left Lower Arm</td>\n",
       "    </tr>\n",
       "    <tr>\n",
       "      <th>134609</th>\n",
       "      <td>0.383092</td>\n",
       "      <td>0.549442</td>\n",
       "      <td>0.608232</td>\n",
       "      <td>1</td>\n",
       "      <td>3</td>\n",
       "      <td>Left Lower Arm</td>\n",
       "    </tr>\n",
       "    <tr>\n",
       "      <th>134610</th>\n",
       "      <td>0.376395</td>\n",
       "      <td>0.555592</td>\n",
       "      <td>0.600000</td>\n",
       "      <td>1</td>\n",
       "      <td>3</td>\n",
       "      <td>Left Lower Arm</td>\n",
       "    </tr>\n",
       "    <tr>\n",
       "      <th>134611</th>\n",
       "      <td>0.365792</td>\n",
       "      <td>0.554297</td>\n",
       "      <td>0.595122</td>\n",
       "      <td>1</td>\n",
       "      <td>3</td>\n",
       "      <td>Left Lower Arm</td>\n",
       "    </tr>\n",
       "    <tr>\n",
       "      <th>134612</th>\n",
       "      <td>0.239397</td>\n",
       "      <td>0.556077</td>\n",
       "      <td>0.577439</td>\n",
       "      <td>1</td>\n",
       "      <td>3</td>\n",
       "      <td>Left Lower Arm</td>\n",
       "    </tr>\n",
       "  </tbody>\n",
       "</table>\n",
       "</div>"
      ],
      "text/plain": [
       "           Acc_x     Acc_y     Acc_z Person  gt        Position\n",
       "134608  0.383092  0.541512  0.612500      1   3  Left Lower Arm\n",
       "134609  0.383092  0.549442  0.608232      1   3  Left Lower Arm\n",
       "134610  0.376395  0.555592  0.600000      1   3  Left Lower Arm\n",
       "134611  0.365792  0.554297  0.595122      1   3  Left Lower Arm\n",
       "134612  0.239397  0.556077  0.577439      1   3  Left Lower Arm"
      ]
     },
     "execution_count": 46,
     "metadata": {},
     "output_type": "execute_result"
    }
   ],
   "source": [
    "User1_LLA_frame_total.tail()"
   ]
  },
  {
   "cell_type": "markdown",
   "metadata": {},
   "source": [
    "### Save Files"
   ]
  },
  {
   "cell_type": "code",
   "execution_count": 47,
   "metadata": {},
   "outputs": [],
   "source": [
    "train_percentage = 0.8"
   ]
  },
  {
   "cell_type": "markdown",
   "metadata": {},
   "source": [
    "### User 1: Train -Valid"
   ]
  },
  {
   "cell_type": "code",
   "execution_count": 48,
   "metadata": {},
   "outputs": [],
   "source": [
    "activity_set = np.unique(User1_Back_frame_total['gt'])\n",
    "total_activity = len(np.unique(User1_Back_frame_total['gt']))"
   ]
  },
  {
   "cell_type": "code",
   "execution_count": 46,
   "metadata": {},
   "outputs": [
    {
     "data": {
      "text/plain": [
       "4"
      ]
     },
     "execution_count": 46,
     "metadata": {},
     "output_type": "execute_result"
    }
   ],
   "source": [
    "total_activity"
   ]
  },
  {
   "cell_type": "code",
   "execution_count": 52,
   "metadata": {},
   "outputs": [
    {
     "data": {
      "image/png": "[encoded data removed]",
      "text/plain": [
       "<Figure size 1152x864 with 3 Axes>"
      ]
     },
     "metadata": {
      "needs_background": "light"
     },
     "output_type": "display_data"
    },
    {
     "data": {
      "image/png": "[encoded data removed]",
      "text/plain": [
       "<Figure size 1152x864 with 3 Axes>"
      ]
     },
     "metadata": {
      "needs_background": "light"
     },
     "output_type": "display_data"
    }
   ],
   "source": [
    "user1_back_train = pd.DataFrame(columns=['Acc_x', 'Acc_y', 'Acc_z', 'gt', 'Person', 'Position'])\n",
    "user1_back_valid = pd.DataFrame(columns=['Acc_x', 'Acc_y', 'Acc_z', 'gt', 'Person', 'Position'])\n",
    "for activity_index in range(0, total_activity):\n",
    "    activity_frame = User1_Back_frame_total[User1_Back_frame_total['gt'] == activity_set[activity_index]]\n",
    "    \n",
    "    upto = int(activity_frame.shape[0]*train_percentage)    \n",
    "    train = activity_frame[0:upto].copy()\n",
    "    valid = activity_frame[upto+1 : activity_frame.shape[0]].copy()\n",
    "    \n",
    "    user1_back_train = user1_back_train.append(train, ignore_index=True, sort = False)\n",
    "    user1_back_valid = user1_back_valid.append(valid, ignore_index=True, sort = False)\n",
    "    \n",
    "user1_back_train.to_csv (save_path+'user1_back_train'+'.csv', index = None, header=True)\n",
    "user1_back_valid.to_csv (save_path+'user1_back_valid'+'.csv', index = None, header=True)\n",
    "\n",
    "\n",
    "plot_activity(user1_back_train, \"Default\")\n",
    "plot_activity(user1_back_valid, \"Default\")"
   ]
  },
  {
   "cell_type": "code",
   "execution_count": 48,
   "metadata": {},
   "outputs": [],
   "source": [
    "activity_set = np.unique(User1_RUA_frame_total['gt'])\n",
    "total_activity = len(np.unique(User1_RUA_frame_total['gt']))"
   ]
  },
  {
   "cell_type": "code",
   "execution_count": 49,
   "metadata": {},
   "outputs": [
    {
     "data": {
      "text/plain": [
       "4"
      ]
     },
     "execution_count": 49,
     "metadata": {},
     "output_type": "execute_result"
    }
   ],
   "source": [
    "total_activity"
   ]
  },
  {
   "cell_type": "code",
   "execution_count": 50,
   "metadata": {},
   "outputs": [],
   "source": [
    "user1_RUA_train = pd.DataFrame(columns=['Acc_x', 'Acc_y', 'Acc_z', 'gt', 'Person', 'Position'])\n",
    "user1_RUA_valid = pd.DataFrame(columns=['Acc_x', 'Acc_y', 'Acc_z', 'gt', 'Person', 'Position'])\n",
    "for activity_index in range(0, total_activity):\n",
    "    activity_frame = User1_RUA_frame_total[User1_RUA_frame_total['gt'] == activity_set[activity_index]]\n",
    "    \n",
    "    upto = int(activity_frame.shape[0]*train_percentage)    \n",
    "    train = activity_frame[0:upto].copy()\n",
    "    valid = activity_frame[upto+1 : activity_frame.shape[0]].copy()\n",
    "    \n",
    "    user1_RUA_train = user1_RUA_train.append(train, ignore_index=True, sort = False)\n",
    "    user1_RUA_valid = user1_RUA_valid.append(valid, ignore_index=True, sort = False)\n",
    "    \n",
    "user1_RUA_train.to_csv (save_path+'user1_RUA_train'+'.csv', index = None, header=True)\n",
    "user1_RUA_valid.to_csv (save_path+'user1_RUA_valid'+'.csv', index = None, header=True)"
   ]
  },
  {
   "cell_type": "code",
   "execution_count": 51,
   "metadata": {},
   "outputs": [],
   "source": [
    "activity_set = np.unique(User1_RLA_frame_total['gt'])\n",
    "total_activity = len(np.unique(User1_RLA_frame_total['gt']))"
   ]
  },
  {
   "cell_type": "code",
   "execution_count": 52,
   "metadata": {},
   "outputs": [
    {
     "data": {
      "text/plain": [
       "4"
      ]
     },
     "execution_count": 52,
     "metadata": {},
     "output_type": "execute_result"
    }
   ],
   "source": [
    "total_activity"
   ]
  },
  {
   "cell_type": "code",
   "execution_count": 53,
   "metadata": {},
   "outputs": [],
   "source": [
    "user1_RLA_train = pd.DataFrame(columns=['Acc_x', 'Acc_y', 'Acc_z', 'gt', 'Person', 'Position'])\n",
    "user1_RLA_valid = pd.DataFrame(columns=['Acc_x', 'Acc_y', 'Acc_z', 'gt', 'Person', 'Position'])\n",
    "for activity_index in range(0, total_activity):\n",
    "    activity_frame = User1_RLA_frame_total[User1_RLA_frame_total['gt'] == activity_set[activity_index]]\n",
    "    \n",
    "    upto = int(activity_frame.shape[0]*train_percentage)    \n",
    "    train = activity_frame[0:upto].copy()\n",
    "    valid = activity_frame[upto+1 : activity_frame.shape[0]].copy()\n",
    "    \n",
    "    user1_RLA_train = user1_RLA_train.append(train, ignore_index=True, sort = False)\n",
    "    user1_RLA_valid = user1_RLA_valid.append(valid, ignore_index=True, sort = False)\n",
    "    \n",
    "user1_RLA_train.to_csv (save_path+'user1_RLA_train'+'.csv', index = None, header=True)\n",
    "user1_RLA_valid.to_csv (save_path+'user1_RLA_valid'+'.csv', index = None, header=True)"
   ]
  },
  {
   "cell_type": "code",
   "execution_count": 54,
   "metadata": {},
   "outputs": [],
   "source": [
    "activity_set = np.unique(User1_LUA_frame_total['gt'])\n",
    "total_activity = len(np.unique(User1_LUA_frame_total['gt']))"
   ]
  },
  {
   "cell_type": "code",
   "execution_count": 55,
   "metadata": {},
   "outputs": [
    {
     "data": {
      "text/plain": [
       "4"
      ]
     },
     "execution_count": 55,
     "metadata": {},
     "output_type": "execute_result"
    }
   ],
   "source": [
    "total_activity"
   ]
  },
  {
   "cell_type": "code",
   "execution_count": 56,
   "metadata": {},
   "outputs": [],
   "source": [
    "user1_LUA_train = pd.DataFrame(columns=['Acc_x', 'Acc_y', 'Acc_z', 'gt', 'Person', 'Position'])\n",
    "user1_LUA_valid = pd.DataFrame(columns=['Acc_x', 'Acc_y', 'Acc_z', 'gt', 'Person', 'Position'])\n",
    "for activity_index in range(0, total_activity):\n",
    "    activity_frame = User1_LUA_frame_total[User1_LUA_frame_total['gt'] == activity_set[activity_index]]\n",
    "    \n",
    "    upto = int(activity_frame.shape[0]*train_percentage)    \n",
    "    train = activity_frame[0:upto].copy()\n",
    "    valid = activity_frame[upto+1 : activity_frame.shape[0]].copy()\n",
    "    \n",
    "    user1_LUA_train = user1_LUA_train.append(train, ignore_index=True, sort = False)\n",
    "    user1_LUA_valid = user1_LUA_valid.append(valid, ignore_index=True, sort = False)\n",
    "    \n",
    "user1_LUA_train.to_csv (save_path+'user1_LUA_train'+'.csv', index = None, header=True)\n",
    "user1_LUA_valid.to_csv (save_path+'user1_LUA_valid'+'.csv', index = None, header=True)"
   ]
  },
  {
   "cell_type": "code",
   "execution_count": 57,
   "metadata": {},
   "outputs": [],
   "source": [
    "activity_set = np.unique(User1_LLA_frame_total['gt'])\n",
    "total_activity = len(np.unique(User1_LLA_frame_total['gt']))"
   ]
  },
  {
   "cell_type": "code",
   "execution_count": 58,
   "metadata": {},
   "outputs": [
    {
     "data": {
      "text/plain": [
       "4"
      ]
     },
     "execution_count": 58,
     "metadata": {},
     "output_type": "execute_result"
    }
   ],
   "source": [
    "total_activity"
   ]
  },
  {
   "cell_type": "code",
   "execution_count": 59,
   "metadata": {},
   "outputs": [],
   "source": [
    "user1_LLA_train = pd.DataFrame(columns=['Acc_x', 'Acc_y', 'Acc_z', 'gt', 'Person', 'Position'])\n",
    "user1_LLA_valid = pd.DataFrame(columns=['Acc_x', 'Acc_y', 'Acc_z', 'gt', 'Person', 'Position'])\n",
    "for activity_index in range(0, total_activity):\n",
    "    activity_frame = User1_LLA_frame_total[User1_LLA_frame_total['gt'] == activity_set[activity_index]]\n",
    "    \n",
    "    upto = int(activity_frame.shape[0]*train_percentage)    \n",
    "    train = activity_frame[0:upto].copy()\n",
    "    valid = activity_frame[upto+1 : activity_frame.shape[0]].copy()\n",
    "    \n",
    "    user1_LLA_train = user1_LLA_train.append(train, ignore_index=True, sort = False)\n",
    "    user1_LLA_valid = user1_LLA_valid.append(valid, ignore_index=True, sort = False)\n",
    "    \n",
    "user1_LLA_train.to_csv (save_path+'user1_LLA_train'+'.csv', index = None, header=True)\n",
    "user1_LLA_valid.to_csv (save_path+'user1_LLA_valid'+'.csv', index = None, header=True)"
   ]
  },
  {
   "cell_type": "markdown",
   "metadata": {},
   "source": [
    "### User 2: Train and Valid"
   ]
  },
  {
   "cell_type": "code",
   "execution_count": 60,
   "metadata": {},
   "outputs": [],
   "source": [
    "activity_set = np.unique(User2_Back_frame_total['gt'])\n",
    "total_activity = len(np.unique(User2_Back_frame_total['gt']))"
   ]
  },
  {
   "cell_type": "code",
   "execution_count": 61,
   "metadata": {},
   "outputs": [
    {
     "data": {
      "text/plain": [
       "4"
      ]
     },
     "execution_count": 61,
     "metadata": {},
     "output_type": "execute_result"
    }
   ],
   "source": [
    "total_activity"
   ]
  },
  {
   "cell_type": "code",
   "execution_count": 62,
   "metadata": {},
   "outputs": [],
   "source": [
    "user2_back_train = pd.DataFrame(columns=['Acc_x', 'Acc_y', 'Acc_z', 'gt', 'Person', 'Position'])\n",
    "user2_back_valid = pd.DataFrame(columns=['Acc_x', 'Acc_y', 'Acc_z', 'gt', 'Person', 'Position'])\n",
    "for activity_index in range(0, total_activity):\n",
    "    activity_frame = User2_Back_frame_total[User2_Back_frame_total['gt'] == activity_set[activity_index]]\n",
    "    \n",
    "    upto = int(activity_frame.shape[0]*train_percentage)    \n",
    "    train = activity_frame[0:upto].copy()\n",
    "    valid = activity_frame[upto+1 : activity_frame.shape[0]].copy()\n",
    "    \n",
    "    user2_back_train = user2_back_train.append(train, ignore_index=True, sort = False)\n",
    "    user2_back_valid = user2_back_valid.append(valid, ignore_index=True, sort = False)\n",
    "    \n",
    "user2_back_train.to_csv (save_path+'user2_back_train'+'.csv', index = None, header=True)\n",
    "user2_back_valid.to_csv (save_path+'user2_back_valid'+'.csv', index = None, header=True)"
   ]
  },
  {
   "cell_type": "code",
   "execution_count": 63,
   "metadata": {},
   "outputs": [],
   "source": [
    "activity_set = np.unique(User2_RUA_frame_total['gt'])\n",
    "total_activity = len(np.unique(User2_RUA_frame_total['gt']))"
   ]
  },
  {
   "cell_type": "code",
   "execution_count": 64,
   "metadata": {},
   "outputs": [
    {
     "data": {
      "text/plain": [
       "4"
      ]
     },
     "execution_count": 64,
     "metadata": {},
     "output_type": "execute_result"
    }
   ],
   "source": [
    "total_activity"
   ]
  },
  {
   "cell_type": "code",
   "execution_count": 65,
   "metadata": {},
   "outputs": [],
   "source": [
    "user2_RUA_train = pd.DataFrame(columns=['Acc_x', 'Acc_y', 'Acc_z', 'gt', 'Person', 'Position'])\n",
    "user2_RUA_valid = pd.DataFrame(columns=['Acc_x', 'Acc_y', 'Acc_z', 'gt', 'Person', 'Position'])\n",
    "for activity_index in range(0, total_activity):\n",
    "    activity_frame = User2_RUA_frame_total[User2_RUA_frame_total['gt'] == activity_set[activity_index]]\n",
    "    \n",
    "    upto = int(activity_frame.shape[0]*train_percentage)    \n",
    "    train = activity_frame[0:upto].copy()\n",
    "    valid = activity_frame[upto+1 : activity_frame.shape[0]].copy()\n",
    "    \n",
    "    user2_RUA_train = user2_RUA_train.append(train, ignore_index=True, sort = False)\n",
    "    user2_RUA_valid = user2_RUA_valid.append(valid, ignore_index=True, sort = False)\n",
    "    \n",
    "user2_RUA_train.to_csv (save_path+'user2_RUA_train'+'.csv', index = None, header=True)\n",
    "user2_RUA_valid.to_csv (save_path+'user2_RUA_valid'+'.csv', index = None, header=True)"
   ]
  },
  {
   "cell_type": "code",
   "execution_count": 66,
   "metadata": {},
   "outputs": [],
   "source": [
    "activity_set = np.unique(User2_RLA_frame_total['gt'])\n",
    "total_activity = len(np.unique(User2_RLA_frame_total['gt']))"
   ]
  },
  {
   "cell_type": "code",
   "execution_count": 67,
   "metadata": {},
   "outputs": [
    {
     "data": {
      "text/plain": [
       "4"
      ]
     },
     "execution_count": 67,
     "metadata": {},
     "output_type": "execute_result"
    }
   ],
   "source": [
    "total_activity"
   ]
  },
  {
   "cell_type": "code",
   "execution_count": 68,
   "metadata": {},
   "outputs": [],
   "source": [
    "user2_RLA_train = pd.DataFrame(columns=['Acc_x', 'Acc_y', 'Acc_z', 'gt', 'Person', 'Position'])\n",
    "user2_RLA_valid = pd.DataFrame(columns=['Acc_x', 'Acc_y', 'Acc_z', 'gt', 'Person', 'Position'])\n",
    "for activity_index in range(0, total_activity):\n",
    "    activity_frame = User2_RLA_frame_total[User2_RLA_frame_total['gt'] == activity_set[activity_index]]\n",
    "    \n",
    "    upto = int(activity_frame.shape[0]*train_percentage)    \n",
    "    train = activity_frame[0:upto].copy()\n",
    "    valid = activity_frame[upto+1 : activity_frame.shape[0]].copy()\n",
    "    \n",
    "    user2_RLA_train = user2_RLA_train.append(train, ignore_index=True, sort = False)\n",
    "    user2_RLA_valid = user2_RLA_valid.append(valid, ignore_index=True, sort = False)\n",
    "    \n",
    "user2_RLA_train.to_csv (save_path+'user2_RLA_train'+'.csv', index = None, header=True)\n",
    "user2_RLA_valid.to_csv (save_path+'user2_RLA_valid'+'.csv', index = None, header=True)"
   ]
  },
  {
   "cell_type": "code",
   "execution_count": 69,
   "metadata": {},
   "outputs": [],
   "source": [
    "activity_set = np.unique(User2_LUA_frame_total['gt'])\n",
    "total_activity = len(np.unique(User2_LUA_frame_total['gt']))"
   ]
  },
  {
   "cell_type": "code",
   "execution_count": 70,
   "metadata": {},
   "outputs": [
    {
     "data": {
      "text/plain": [
       "4"
      ]
     },
     "execution_count": 70,
     "metadata": {},
     "output_type": "execute_result"
    }
   ],
   "source": [
    "total_activity"
   ]
  },
  {
   "cell_type": "code",
   "execution_count": 71,
   "metadata": {},
   "outputs": [],
   "source": [
    "user2_LUA_train = pd.DataFrame(columns=['Acc_x', 'Acc_y', 'Acc_z', 'gt', 'Person', 'Position'])\n",
    "user2_LUA_valid = pd.DataFrame(columns=['Acc_x', 'Acc_y', 'Acc_z', 'gt', 'Person', 'Position'])\n",
    "for activity_index in range(0, total_activity):\n",
    "    activity_frame = User2_LUA_frame_total[User2_LUA_frame_total['gt'] == activity_set[activity_index]]\n",
    "    \n",
    "    upto = int(activity_frame.shape[0]*train_percentage)    \n",
    "    train = activity_frame[0:upto].copy()\n",
    "    valid = activity_frame[upto+1 : activity_frame.shape[0]].copy()\n",
    "    \n",
    "    user2_LUA_train = user2_LUA_train.append(train, ignore_index=True, sort = False)\n",
    "    user2_LUA_valid = user2_LUA_valid.append(valid, ignore_index=True, sort = False)\n",
    "    \n",
    "user2_LUA_train.to_csv (save_path+'user2_LUA_train'+'.csv', index = None, header=True)\n",
    "user2_LUA_valid.to_csv (save_path+'user2_LUA_valid'+'.csv', index = None, header=True)"
   ]
  },
  {
   "cell_type": "code",
   "execution_count": 72,
   "metadata": {},
   "outputs": [],
   "source": [
    "activity_set = np.unique(User2_LLA_frame_total['gt'])\n",
    "total_activity = len(np.unique(User2_LLA_frame_total['gt']))"
   ]
  },
  {
   "cell_type": "code",
   "execution_count": 73,
   "metadata": {},
   "outputs": [
    {
     "data": {
      "text/plain": [
       "4"
      ]
     },
     "execution_count": 73,
     "metadata": {},
     "output_type": "execute_result"
    }
   ],
   "source": [
    "total_activity"
   ]
  },
  {
   "cell_type": "code",
   "execution_count": 74,
   "metadata": {},
   "outputs": [],
   "source": [
    "user2_LLA_train = pd.DataFrame(columns=['Acc_x', 'Acc_y', 'Acc_z', 'gt', 'Person', 'Position'])\n",
    "user2_LLA_valid = pd.DataFrame(columns=['Acc_x', 'Acc_y', 'Acc_z', 'gt', 'Person', 'Position'])\n",
    "for activity_index in range(0, total_activity):\n",
    "    activity_frame = User2_LLA_frame_total[User2_LLA_frame_total['gt'] == activity_set[activity_index]]\n",
    "    \n",
    "    upto = int(activity_frame.shape[0]*train_percentage)    \n",
    "    train = activity_frame[0:upto].copy()\n",
    "    valid = activity_frame[upto+1 : activity_frame.shape[0]].copy()\n",
    "    \n",
    "    user2_LLA_train = user2_LLA_train.append(train, ignore_index=True, sort = False)\n",
    "    user2_LLA_valid = user2_LLA_valid.append(valid, ignore_index=True, sort = False)\n",
    "    \n",
    "user2_LLA_train.to_csv (save_path+'user2_LLA_train'+'.csv', index = None, header=True)\n",
    "user2_LLA_valid.to_csv (save_path+'user2_LLA_valid'+'.csv', index = None, header=True)"
   ]
  },
  {
   "cell_type": "markdown",
   "metadata": {},
   "source": [
    "### User 3: Train and Valid"
   ]
  },
  {
   "cell_type": "code",
   "execution_count": 75,
   "metadata": {},
   "outputs": [],
   "source": [
    "activity_set = np.unique(User3_Back_frame_total['gt'])\n",
    "total_activity = len(np.unique(User3_Back_frame_total['gt']))"
   ]
  },
  {
   "cell_type": "code",
   "execution_count": 76,
   "metadata": {},
   "outputs": [
    {
     "data": {
      "text/plain": [
       "4"
      ]
     },
     "execution_count": 76,
     "metadata": {},
     "output_type": "execute_result"
    }
   ],
   "source": [
    "total_activity"
   ]
  },
  {
   "cell_type": "code",
   "execution_count": 77,
   "metadata": {},
   "outputs": [],
   "source": [
    "user3_back_train = pd.DataFrame(columns=['Acc_x', 'Acc_y', 'Acc_z', 'gt', 'Person', 'Position'])\n",
    "user3_back_valid = pd.DataFrame(columns=['Acc_x', 'Acc_y', 'Acc_z', 'gt', 'Person', 'Position'])\n",
    "for activity_index in range(0, total_activity):\n",
    "    activity_frame = User3_Back_frame_total[User3_Back_frame_total['gt'] == activity_set[activity_index]]\n",
    "    \n",
    "    upto = int(activity_frame.shape[0]*train_percentage)    \n",
    "    train = activity_frame[0:upto].copy()\n",
    "    valid = activity_frame[upto+1 : activity_frame.shape[0]].copy()\n",
    "    \n",
    "    user3_back_train = user3_back_train.append(train, ignore_index=True, sort = False)\n",
    "    user3_back_valid = user3_back_valid.append(valid, ignore_index=True, sort = False)\n",
    "\n",
    "user3_back_train.to_csv (save_path+'user3_back_train'+'.csv', index = None, header=True)\n",
    "user3_back_valid.to_csv (save_path+'user3_back_valid'+'.csv', index = None, header=True)"
   ]
  },
  {
   "cell_type": "code",
   "execution_count": 78,
   "metadata": {},
   "outputs": [],
   "source": [
    "activity_set = np.unique(User3_RUA_frame_total['gt'])\n",
    "total_activity = len(np.unique(User3_RUA_frame_total['gt']))"
   ]
  },
  {
   "cell_type": "code",
   "execution_count": 79,
   "metadata": {},
   "outputs": [
    {
     "data": {
      "text/plain": [
       "4"
      ]
     },
     "execution_count": 79,
     "metadata": {},
     "output_type": "execute_result"
    }
   ],
   "source": [
    "total_activity"
   ]
  },
  {
   "cell_type": "code",
   "execution_count": 80,
   "metadata": {},
   "outputs": [],
   "source": [
    "user3_RUA_train = pd.DataFrame(columns=['Acc_x', 'Acc_y', 'Acc_z', 'gt', 'Person', 'Position'])\n",
    "user3_RUA_valid = pd.DataFrame(columns=['Acc_x', 'Acc_y', 'Acc_z', 'gt', 'Person', 'Position'])\n",
    "for activity_index in range(0, total_activity):\n",
    "    activity_frame = User3_RUA_frame_total[User3_RUA_frame_total['gt'] == activity_set[activity_index]]\n",
    "    \n",
    "    upto = int(activity_frame.shape[0]*train_percentage)    \n",
    "    train = activity_frame[0:upto].copy()\n",
    "    valid = activity_frame[upto+1 : activity_frame.shape[0]].copy()\n",
    "    \n",
    "    user3_RUA_train = user3_RUA_train.append(train, ignore_index=True, sort = False)\n",
    "    user3_RUA_valid = user3_RUA_valid.append(valid, ignore_index=True, sort = False)\n",
    "    \n",
    "user3_RUA_train.to_csv (save_path+'user3_RUA_train'+'.csv', index = None, header=True)\n",
    "user3_RUA_valid.to_csv (save_path+'user3_RUA_valid'+'.csv', index = None, header=True)"
   ]
  },
  {
   "cell_type": "code",
   "execution_count": 81,
   "metadata": {},
   "outputs": [],
   "source": [
    "activity_set = np.unique(User3_RLA_frame_total['gt'])\n",
    "total_activity = len(np.unique(User3_RLA_frame_total['gt']))"
   ]
  },
  {
   "cell_type": "code",
   "execution_count": 82,
   "metadata": {},
   "outputs": [
    {
     "data": {
      "text/plain": [
       "4"
      ]
     },
     "execution_count": 82,
     "metadata": {},
     "output_type": "execute_result"
    }
   ],
   "source": [
    "total_activity"
   ]
  },
  {
   "cell_type": "code",
   "execution_count": 83,
   "metadata": {},
   "outputs": [],
   "source": [
    "user3_RLA_train = pd.DataFrame(columns=['Acc_x', 'Acc_y', 'Acc_z', 'gt', 'Person', 'Position'])\n",
    "user3_RLA_valid = pd.DataFrame(columns=['Acc_x', 'Acc_y', 'Acc_z', 'gt', 'Person', 'Position'])\n",
    "for activity_index in range(0, total_activity):\n",
    "    activity_frame = User3_RLA_frame_total[User3_RLA_frame_total['gt'] == activity_set[activity_index]]\n",
    "    \n",
    "    upto = int(activity_frame.shape[0]*train_percentage)    \n",
    "    train = activity_frame[0:upto].copy()\n",
    "    valid = activity_frame[upto+1 : activity_frame.shape[0]].copy()\n",
    "    \n",
    "    user3_RLA_train = user3_RLA_train.append(train, ignore_index=True, sort = False)\n",
    "    user3_RLA_valid = user3_RLA_valid.append(valid, ignore_index=True, sort = False)\n",
    "    \n",
    "user3_RLA_train.to_csv (save_path+'user3_RLA_train'+'.csv', index = None, header=True)\n",
    "user3_RLA_valid.to_csv (save_path+'user3_RLA_valid'+'.csv', index = None, header=True)"
   ]
  },
  {
   "cell_type": "code",
   "execution_count": 84,
   "metadata": {},
   "outputs": [],
   "source": [
    "activity_set = np.unique(User3_LUA_frame_total['gt'])\n",
    "total_activity = len(np.unique(User3_LUA_frame_total['gt']))"
   ]
  },
  {
   "cell_type": "code",
   "execution_count": 85,
   "metadata": {},
   "outputs": [
    {
     "data": {
      "text/plain": [
       "4"
      ]
     },
     "execution_count": 85,
     "metadata": {},
     "output_type": "execute_result"
    }
   ],
   "source": [
    "total_activity"
   ]
  },
  {
   "cell_type": "code",
   "execution_count": 86,
   "metadata": {},
   "outputs": [],
   "source": [
    "user3_LUA_train = pd.DataFrame(columns=['Acc_x', 'Acc_y', 'Acc_z', 'gt', 'Person', 'Position'])\n",
    "user3_LUA_valid = pd.DataFrame(columns=['Acc_x', 'Acc_y', 'Acc_z', 'gt', 'Person', 'Position'])\n",
    "for activity_index in range(0, total_activity):\n",
    "    activity_frame = User3_LUA_frame_total[User3_LUA_frame_total['gt'] == activity_set[activity_index]]\n",
    "    \n",
    "    upto = int(activity_frame.shape[0]*train_percentage)    \n",
    "    train = activity_frame[0:upto].copy()\n",
    "    valid = activity_frame[upto+1 : activity_frame.shape[0]].copy()\n",
    "    \n",
    "    user3_LUA_train = user3_LUA_train.append(train, ignore_index=True, sort = False)\n",
    "    user3_LUA_valid = user3_LUA_valid.append(valid, ignore_index=True, sort = False)\n",
    "    \n",
    "user3_LUA_train.to_csv (save_path+'user3_LUA_train'+'.csv', index = None, header=True)\n",
    "user3_LUA_valid.to_csv (save_path+'user3_LUA_valid'+'.csv', index = None, header=True)"
   ]
  },
  {
   "cell_type": "code",
   "execution_count": 87,
   "metadata": {},
   "outputs": [],
   "source": [
    "activity_set = np.unique(User3_LLA_frame_total['gt'])\n",
    "total_activity = len(np.unique(User3_LLA_frame_total['gt']))"
   ]
  },
  {
   "cell_type": "code",
   "execution_count": 88,
   "metadata": {},
   "outputs": [
    {
     "data": {
      "text/plain": [
       "4"
      ]
     },
     "execution_count": 88,
     "metadata": {},
     "output_type": "execute_result"
    }
   ],
   "source": [
    "total_activity"
   ]
  },
  {
   "cell_type": "code",
   "execution_count": 89,
   "metadata": {},
   "outputs": [],
   "source": [
    "user3_LLA_train = pd.DataFrame(columns=['Acc_x', 'Acc_y', 'Acc_z', 'gt', 'Person', 'Position'])\n",
    "user3_LLA_valid = pd.DataFrame(columns=['Acc_x', 'Acc_y', 'Acc_z', 'gt', 'Person', 'Position'])\n",
    "for activity_index in range(0, total_activity):\n",
    "    activity_frame = User3_LLA_frame_total[User3_LLA_frame_total['gt'] == activity_set[activity_index]]\n",
    "    \n",
    "    upto = int(activity_frame.shape[0]*train_percentage)    \n",
    "    train = activity_frame[0:upto].copy()\n",
    "    valid = activity_frame[upto+1 : activity_frame.shape[0]].copy()\n",
    "    \n",
    "    user3_LLA_train = user3_LLA_train.append(train, ignore_index=True, sort = False)\n",
    "    user3_LLA_valid = user3_LLA_valid.append(valid, ignore_index=True, sort = False)\n",
    "    \n",
    "user3_LLA_train.to_csv (save_path+'user3_LLA_train'+'.csv', index = None, header=True)\n",
    "user3_LLA_valid.to_csv (save_path+'user3_LLA_valid'+'.csv', index = None, header=True)"
   ]
  },
  {
   "cell_type": "markdown",
   "metadata": {},
   "source": [
    "### User 4: Train and Valid"
   ]
  },
  {
   "cell_type": "code",
   "execution_count": 90,
   "metadata": {},
   "outputs": [],
   "source": [
    "activity_set = np.unique(User4_Back_frame_total['gt'])\n",
    "total_activity = len(np.unique(User4_Back_frame_total['gt']))"
   ]
  },
  {
   "cell_type": "code",
   "execution_count": 91,
   "metadata": {},
   "outputs": [
    {
     "data": {
      "text/plain": [
       "4"
      ]
     },
     "execution_count": 91,
     "metadata": {},
     "output_type": "execute_result"
    }
   ],
   "source": [
    "total_activity"
   ]
  },
  {
   "cell_type": "code",
   "execution_count": 92,
   "metadata": {},
   "outputs": [],
   "source": [
    "user4_back_train = pd.DataFrame(columns=['Acc_x', 'Acc_y', 'Acc_z', 'gt', 'Person', 'Position'])\n",
    "user4_back_valid = pd.DataFrame(columns=['Acc_x', 'Acc_y', 'Acc_z', 'gt', 'Person', 'Position'])\n",
    "for activity_index in range(0, total_activity):\n",
    "    activity_frame = User4_Back_frame_total[User4_Back_frame_total['gt'] == activity_set[activity_index]]\n",
    "    \n",
    "    upto = int(activity_frame.shape[0]*train_percentage)    \n",
    "    train = activity_frame[0:upto].copy()\n",
    "    valid = activity_frame[upto+1 : activity_frame.shape[0]].copy()\n",
    "    \n",
    "    user4_back_train = user4_back_train.append(train, ignore_index=True, sort = False)\n",
    "    user4_back_valid = user4_back_valid.append(valid, ignore_index=True, sort = False)\n",
    "    \n",
    "user4_back_train.to_csv (save_path+'user4_back_train'+'.csv', index = None, header=True)\n",
    "user4_back_valid.to_csv (save_path+'user4_back_valid'+'.csv', index = None, header=True)"
   ]
  },
  {
   "cell_type": "code",
   "execution_count": 93,
   "metadata": {},
   "outputs": [],
   "source": [
    "activity_set = np.unique(User4_RUA_frame_total['gt'])\n",
    "total_activity = len(np.unique(User4_RUA_frame_total['gt']))"
   ]
  },
  {
   "cell_type": "code",
   "execution_count": 94,
   "metadata": {},
   "outputs": [
    {
     "data": {
      "text/plain": [
       "4"
      ]
     },
     "execution_count": 94,
     "metadata": {},
     "output_type": "execute_result"
    }
   ],
   "source": [
    "total_activity"
   ]
  },
  {
   "cell_type": "code",
   "execution_count": 95,
   "metadata": {},
   "outputs": [],
   "source": [
    "user4_RUA_train = pd.DataFrame(columns=['Acc_x', 'Acc_y', 'Acc_z', 'gt', 'Person', 'Position'])\n",
    "user4_RUA_valid = pd.DataFrame(columns=['Acc_x', 'Acc_y', 'Acc_z', 'gt', 'Person', 'Position'])\n",
    "for activity_index in range(0, total_activity):\n",
    "    activity_frame = User4_RUA_frame_total[User4_RUA_frame_total['gt'] == activity_set[activity_index]]\n",
    "    \n",
    "    upto = int(activity_frame.shape[0]*train_percentage)    \n",
    "    train = activity_frame[0:upto].copy()\n",
    "    valid = activity_frame[upto+1 : activity_frame.shape[0]].copy()\n",
    "    \n",
    "    user4_RUA_train = user4_RUA_train.append(train, ignore_index=True, sort = False)\n",
    "    user4_RUA_valid = user4_RUA_valid.append(valid, ignore_index=True, sort = False)\n",
    "    \n",
    "user4_RUA_train.to_csv (save_path+'user4_RUA_train'+'.csv', index = None, header=True)\n",
    "user4_RUA_valid.to_csv (save_path+'user4_RUA_valid'+'.csv', index = None, header=True)"
   ]
  },
  {
   "cell_type": "code",
   "execution_count": 96,
   "metadata": {},
   "outputs": [],
   "source": [
    "activity_set = np.unique(User4_RLA_frame_total['gt'])\n",
    "total_activity = len(np.unique(User4_RLA_frame_total['gt']))"
   ]
  },
  {
   "cell_type": "code",
   "execution_count": 97,
   "metadata": {},
   "outputs": [
    {
     "data": {
      "text/plain": [
       "4"
      ]
     },
     "execution_count": 97,
     "metadata": {},
     "output_type": "execute_result"
    }
   ],
   "source": [
    "total_activity"
   ]
  },
  {
   "cell_type": "code",
   "execution_count": 98,
   "metadata": {},
   "outputs": [],
   "source": [
    "user4_RLA_train = pd.DataFrame(columns=['Acc_x', 'Acc_y', 'Acc_z', 'gt', 'Person', 'Position'])\n",
    "user4_RLA_valid = pd.DataFrame(columns=['Acc_x', 'Acc_y', 'Acc_z', 'gt', 'Person', 'Position'])\n",
    "for activity_index in range(0, total_activity):\n",
    "    activity_frame = User4_RLA_frame_total[User4_RLA_frame_total['gt'] == activity_set[activity_index]]\n",
    "    \n",
    "    upto = int(activity_frame.shape[0]*train_percentage)    \n",
    "    train = activity_frame[0:upto].copy()\n",
    "    valid = activity_frame[upto+1 : activity_frame.shape[0]].copy()\n",
    "    \n",
    "    user4_RLA_train = user4_RLA_train.append(train, ignore_index=True, sort = False)\n",
    "    user4_RLA_valid = user4_RLA_valid.append(valid, ignore_index=True, sort = False)\n",
    "    \n",
    "user4_RLA_train.to_csv (save_path+'user4_RLA_train'+'.csv', index = None, header=True)\n",
    "user4_RLA_valid.to_csv (save_path+'user4_RLA_valid'+'.csv', index = None, header=True)"
   ]
  },
  {
   "cell_type": "code",
   "execution_count": 99,
   "metadata": {},
   "outputs": [],
   "source": [
    "activity_set = np.unique(User4_LUA_frame_total['gt'])\n",
    "total_activity = len(np.unique(User4_LUA_frame_total['gt']))"
   ]
  },
  {
   "cell_type": "code",
   "execution_count": 100,
   "metadata": {},
   "outputs": [
    {
     "data": {
      "text/plain": [
       "4"
      ]
     },
     "execution_count": 100,
     "metadata": {},
     "output_type": "execute_result"
    }
   ],
   "source": [
    "total_activity"
   ]
  },
  {
   "cell_type": "code",
   "execution_count": 101,
   "metadata": {},
   "outputs": [],
   "source": [
    "user4_LUA_train = pd.DataFrame(columns=['Acc_x', 'Acc_y', 'Acc_z', 'gt', 'Person', 'Position'])\n",
    "user4_LUA_valid = pd.DataFrame(columns=['Acc_x', 'Acc_y', 'Acc_z', 'gt', 'Person', 'Position'])\n",
    "for activity_index in range(0, total_activity):\n",
    "    activity_frame = User4_LUA_frame_total[User4_LUA_frame_total['gt'] == activity_set[activity_index]]\n",
    "    \n",
    "    upto = int(activity_frame.shape[0]*train_percentage)    \n",
    "    train = activity_frame[0:upto].copy()\n",
    "    valid = activity_frame[upto+1 : activity_frame.shape[0]].copy()\n",
    "    \n",
    "    user4_LUA_train = user4_LUA_train.append(train, ignore_index=True, sort = False)\n",
    "    user4_LUA_valid = user4_LUA_valid.append(valid, ignore_index=True, sort = False)\n",
    "    \n",
    "user4_LUA_train.to_csv (save_path+'user4_LUA_train'+'.csv', index = None, header=True)\n",
    "user4_LUA_valid.to_csv (save_path+'user4_LUA_valid'+'.csv', index = None, header=True)"
   ]
  },
  {
   "cell_type": "code",
   "execution_count": 102,
   "metadata": {},
   "outputs": [],
   "source": [
    "activity_set = np.unique(User4_LLA_frame_total['gt'])\n",
    "total_activity = len(np.unique(User4_LLA_frame_total['gt']))"
   ]
  },
  {
   "cell_type": "code",
   "execution_count": 103,
   "metadata": {},
   "outputs": [
    {
     "data": {
      "text/plain": [
       "4"
      ]
     },
     "execution_count": 103,
     "metadata": {},
     "output_type": "execute_result"
    }
   ],
   "source": [
    "total_activity"
   ]
  },
  {
   "cell_type": "code",
   "execution_count": 104,
   "metadata": {},
   "outputs": [],
   "source": [
    "user4_LLA_train = pd.DataFrame(columns=['Acc_x', 'Acc_y', 'Acc_z', 'gt', 'Person', 'Position'])\n",
    "user4_LLA_valid = pd.DataFrame(columns=['Acc_x', 'Acc_y', 'Acc_z', 'gt', 'Person', 'Position'])\n",
    "for activity_index in range(0, total_activity):\n",
    "    activity_frame = User4_LLA_frame_total[User4_LLA_frame_total['gt'] == activity_set[activity_index]]\n",
    "    \n",
    "    upto = int(activity_frame.shape[0]*train_percentage)    \n",
    "    train = activity_frame[0:upto].copy()\n",
    "    valid = activity_frame[upto+1 : activity_frame.shape[0]].copy()\n",
    "    \n",
    "    user4_LLA_train = user4_LLA_train.append(train, ignore_index=True, sort = False)\n",
    "    user4_LLA_valid = user4_LLA_valid.append(valid, ignore_index=True, sort = False)\n",
    "\n",
    "user4_LLA_train.to_csv (save_path+'user4_LLA_train'+'.csv', index = None, header=True)\n",
    "user4_LLA_valid.to_csv (save_path+'user4_LLA_valid'+'.csv', index = None, header=True)"
   ]
  },
  {
   "cell_type": "code",
   "execution_count": 105,
   "metadata": {},
   "outputs": [
    {
     "data": {
      "text/plain": [
       "array([0, 1, 2, 3], dtype=object)"
      ]
     },
     "execution_count": 105,
     "metadata": {},
     "output_type": "execute_result"
    }
   ],
   "source": [
    "np.unique(user4_LLA_train['gt'])"
   ]
  },
  {
   "cell_type": "code",
   "execution_count": 106,
   "metadata": {},
   "outputs": [
    {
     "data": {
      "text/plain": [
       "array([0, 1, 2, 3], dtype=object)"
      ]
     },
     "execution_count": 106,
     "metadata": {},
     "output_type": "execute_result"
    }
   ],
   "source": [
    "np.unique(user4_LLA_valid['gt'])"
   ]
  },
  {
   "cell_type": "code",
   "execution_count": 107,
   "metadata": {},
   "outputs": [
    {
     "data": {
      "text/plain": [
       "21014"
      ]
     },
     "execution_count": 107,
     "metadata": {},
     "output_type": "execute_result"
    }
   ],
   "source": [
    "len(user4_LLA_valid)"
   ]
  },
  {
   "cell_type": "markdown",
   "metadata": {},
   "source": [
    "### Code block for merging all user train and test data for a specific position"
   ]
  },
  {
   "cell_type": "markdown",
   "metadata": {},
   "source": [
    "## Prepare Final Dataset"
   ]
  },
  {
   "cell_type": "code",
   "execution_count": 108,
   "metadata": {},
   "outputs": [],
   "source": [
    "BACK_dataset_train = []\n",
    "RUA_dataset_train = []\n",
    "RLA_dataset_train = []\n",
    "LUA_dataset_train = []\n",
    "LLA_dataset_train = []\n",
    "BACK_gt_train = []\n",
    "RUA_gt_train = []\n",
    "RLA_gt_train = []\n",
    "LUA_gt_train = []\n",
    "LLA_gt_train = []"
   ]
  },
  {
   "cell_type": "code",
   "execution_count": 109,
   "metadata": {},
   "outputs": [],
   "source": [
    "BACK_dataset_valid = []\n",
    "RUA_dataset_valid = []\n",
    "RLA_dataset_valid = []\n",
    "LUA_dataset_valid = []\n",
    "LLA_dataset_valid = []\n",
    "BACK_gt_valid = []\n",
    "RUA_gt_valid = []\n",
    "RLA_gt_valid = []\n",
    "LUA_gt_valid = []\n",
    "LLA_gt_valid = []"
   ]
  },
  {
   "cell_type": "code",
   "execution_count": 110,
   "metadata": {},
   "outputs": [],
   "source": [
    "win_size=128\n",
    "step_size=64\n",
    "AXIS = 3\n",
    "FROM = 0\n",
    "TO = FROM+3\n",
    "START = 3\n",
    "END = 4"
   ]
  },
  {
   "cell_type": "code",
   "execution_count": 111,
   "metadata": {},
   "outputs": [],
   "source": [
    "item = [\"train\",\"valid\"]\n",
    "user = [\"user1\",\"user2\",\"user3\",\"user4\"]\n",
    "position = [\"back\", \"RUA\", \"RLA\", \"LUA\",\"LLA\"]\n",
    "selected_user = 1"
   ]
  },
  {
   "cell_type": "markdown",
   "metadata": {},
   "source": [
    "### Code Block for taking position-wise all user train and validation data"
   ]
  },
  {
   "cell_type": "code",
   "execution_count": 112,
   "metadata": {},
   "outputs": [
    {
     "name": "stderr",
     "output_type": "stream",
     "text": [
      " 20%|██        | 1/5 [00:00<00:00,  8.01it/s]"
     ]
    },
    {
     "name": "stdout",
     "output_type": "stream",
     "text": [
      "user1_back_train\n",
      "user1_back_valid\n",
      "user1_RUA_train\n"
     ]
    },
    {
     "name": "stderr",
     "output_type": "stream",
     "text": [
      " 60%|██████    | 3/5 [00:00<00:00,  8.11it/s]"
     ]
    },
    {
     "name": "stdout",
     "output_type": "stream",
     "text": [
      "user1_RUA_valid\n",
      "user1_RLA_train\n",
      "user1_RLA_valid\n",
      "user1_LUA_train\n"
     ]
    },
    {
     "name": "stderr",
     "output_type": "stream",
     "text": [
      "100%|██████████| 5/5 [00:00<00:00,  8.45it/s]"
     ]
    },
    {
     "name": "stdout",
     "output_type": "stream",
     "text": [
      "user1_LUA_valid\n",
      "user1_LLA_train\n",
      "user1_LLA_valid\n"
     ]
    },
    {
     "name": "stderr",
     "output_type": "stream",
     "text": [
      "\n"
     ]
    }
   ],
   "source": [
    "for position_index in tqdm.tqdm(range(0,5)): #Back, RUA, RLA, LUA, LLA\n",
    "    for split_index in range(0,2):\n",
    "        file_name = user[selected_user-1] + \"_\" + position[position_index]+'_'+item[split_index]\n",
    "        \n",
    "        print(file_name)\n",
    "        df = pd.read_csv(save_path+file_name+'.csv', sep=\",\")   \n",
    "        len_df = df.shape[0]\n",
    "        narray = df.to_numpy()\n",
    "\n",
    "        for i in range(0, len_df, step_size):\n",
    "            window = narray[i:i+win_size, FROM:TO]\n",
    "            \n",
    "            if window.shape[0] != win_size:\n",
    "                continue\n",
    "            else:\n",
    "                reshaped_window = window.reshape(1,win_size,1,AXIS)\n",
    "                gt = np.bincount(narray[i:i+win_size,START:END].astype(int).ravel()).argmax()\n",
    "                \n",
    "                if position_index == 0:\n",
    "                    if split_index == 0:\n",
    "                        BACK_dataset_train.append(reshaped_window)\n",
    "                        BACK_gt_train.append(gt)\n",
    "                    elif split_index == 1:\n",
    "                        BACK_dataset_valid.append(reshaped_window)\n",
    "                        BACK_gt_valid.append(gt)\n",
    "                elif position_index == 1:\n",
    "                    if split_index == 0:\n",
    "                        RUA_dataset_train.append(reshaped_window)\n",
    "                        RUA_gt_train.append(gt)\n",
    "                    elif split_index == 1:\n",
    "                        RUA_dataset_valid.append(reshaped_window)\n",
    "                        RUA_gt_valid.append(gt)\n",
    "                elif position_index == 2:\n",
    "                    if split_index == 0:\n",
    "                        RLA_dataset_train.append(reshaped_window)\n",
    "                        RLA_gt_train.append(gt)\n",
    "                    elif split_index == 1:\n",
    "                        RLA_dataset_valid.append(reshaped_window)\n",
    "                        RLA_gt_valid.append(gt)\n",
    "                elif position_index == 3:\n",
    "                    if split_index == 0:\n",
    "                        LUA_dataset_train.append(reshaped_window)\n",
    "                        LUA_gt_train.append(gt)\n",
    "                    elif split_index == 1:\n",
    "                        LUA_dataset_valid.append(reshaped_window)\n",
    "                        LUA_gt_valid.append(gt)\n",
    "                elif position_index == 4:\n",
    "                    if split_index == 0:\n",
    "                        LLA_dataset_train.append(reshaped_window)\n",
    "                        LLA_gt_train.append(gt)\n",
    "                    elif split_index == 1:\n",
    "                        LLA_dataset_valid.append(reshaped_window)\n",
    "                        LLA_gt_valid.append(gt)"
   ]
  },
  {
   "cell_type": "code",
   "execution_count": null,
   "metadata": {},
   "outputs": [],
   "source": []
  }
 ],
 "metadata": {
  "kernelspec": {
   "display_name": "Python 3",
   "language": "python",
   "name": "python3"
  },
  "language_info": {
   "codemirror_mode": {
    "name": "ipython",
    "version": 3
   },
   "file_extension": ".py",
   "mimetype": "text/x-python",
   "name": "python",
   "nbconvert_exporter": "python",
   "pygments_lexer": "ipython3",
   "version": "3.6.5"
  }
 },
 "nbformat": 4,
 "nbformat_minor": 2
}
