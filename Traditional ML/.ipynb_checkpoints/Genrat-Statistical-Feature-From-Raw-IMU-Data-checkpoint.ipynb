{
 "cells": [
  {
   "cell_type": "markdown",
   "metadata": {},
   "source": [
    "# Access the Labeled Raw IMU Data and Extract Statistical Features on Windowed Segements"
   ]
  },
  {
   "cell_type": "code",
   "execution_count": 1,
   "metadata": {},
   "outputs": [],
   "source": [
    "# Generate features\n",
    "import matplotlib as plt\n",
    "import pandas as pd\n",
    "import os\n",
    "import numpy as np\n",
    "import math\n",
    "import csv\n",
    "from astropy.stats import median_absolute_deviation\n",
    "from statsmodels import robust\n",
    "from scipy.stats import variation, kurtosis, skew\n",
    "from __future__ import division"
   ]
  },
  {
   "cell_type": "code",
   "execution_count": 2,
   "metadata": {},
   "outputs": [],
   "source": [
    "home_url = os.getcwd()\n",
    "url = os.path.abspath(os.path.join(home_url, '..', 'Extracted Data Files')) + \"/\"\n",
    "file_name = ['P1_raw_labeled','P2_raw_labeled','P3_raw_labeled','P4_raw_labeled']\n",
    "feature_file = ['P1_feature_labeled','P2_feature_labeled','P3_feature_labeled','P4_feature_labeled']"
   ]
  },
  {
   "cell_type": "code",
   "execution_count": 3,
   "metadata": {},
   "outputs": [],
   "source": [
    "def calculate_magnitude_mean(dataframe):\n",
    "    x_mean = dataframe['X'].mean()\n",
    "    y_mean = dataframe['Y'].mean()\n",
    "    z_mean = dataframe['Z'].mean()\n",
    "    \n",
    "    x_mean_sq = x_mean**2\n",
    "    y_mean_sq = y_mean**2\n",
    "    z_mean_sq = z_mean**2\n",
    "    \n",
    "    mag_mean = np.sqrt(x_mean_sq+y_mean_sq+z_mean_sq)\n",
    "    return mag_mean\n",
    "\n",
    "def cal_mean_mag(win_df):\n",
    "    start_index = 0\n",
    "    sum_value = 0\n",
    "    for i in range(start_index, start_index+win_df.shape[0]):\n",
    "        x = win_df['X'].iloc[start_index]**2\n",
    "        y = win_df['Y'].iloc[start_index]**2\n",
    "        z = win_df['Z'].iloc[start_index]**2\n",
    "        sum_value = sum_value + np.sqrt(x+y+z)\n",
    "        start_index = start_index + 1\n",
    "    \n",
    "    return sum_value/win_df.shape[0]\n",
    "\n",
    "def cal_cov(a,b):\n",
    "    return np.cov(a,b)[0][1]\n",
    "\n",
    "def avg_power(sx):\n",
    "    # Calculate spectrum via FFT and account for scaling 1/sqrt(N)\n",
    "    # taking the real fft (rfft) only the positive frequencies are calculated\n",
    "    fx = np.fft.fft(sx)/(math.sqrt(len(sx)))\n",
    "\n",
    "    # Calculate RMS for time domains signal + spectrum\n",
    "    parseval_sx = (np.sum(sx**2))\n",
    "    parseval_fx = np.sum(np.abs(fx)**2)\n",
    "    \n",
    "    return float(parseval_sx),float(parseval_fx)"
   ]
  },
  {
   "cell_type": "code",
   "execution_count": 4,
   "metadata": {},
   "outputs": [],
   "source": [
    "for index in range(4):\n",
    "    df = pd.read_csv(url+file_name[index]+\".csv\")\n",
    "    df.drop(['Unnamed: 0'], axis=1, inplace=True)\n",
    "    \n",
    "    len_df=len(df)\n",
    "    win_size=20\n",
    "    step_size=10\n",
    "    \n",
    "    instances=[]\n",
    "    for i in range(0, len_df, step_size): \n",
    "        \n",
    "        win_df=df[i:i+win_size]\n",
    "        feature={}\n",
    "        feature['x_mean']=win_df['X'].mean()\n",
    "        feature['y_mean']=win_df['Y'].mean()\n",
    "        feature['z_mean']=win_df['Z'].mean()\n",
    "\n",
    "        feature['x_Var']=win_df['X'].var()\n",
    "        feature['y_Var']=win_df['Y'].var()\n",
    "        feature['z_Var']=win_df['Z'].var()\n",
    "\n",
    "        feature['x_sd']=win_df['X'].std()\n",
    "        feature['y_sd']=win_df['Y'].std()\n",
    "        feature['z_sd']=win_df['Z'].std()\n",
    "\n",
    "        feature['mean_mag'] = calculate_magnitude_mean(win_df)\n",
    "        feature['mag_mean'] = cal_mean_mag(win_df.reset_index(drop=True))\n",
    "\n",
    "        feature['cov_xy'] = cal_cov(win_df['X'],win_df['Y'])\n",
    "        feature['cov_yz'] = cal_cov(win_df['Y'],win_df['Z'])\n",
    "        feature['cov_zx'] = cal_cov(win_df['Z'],win_df['X'])\n",
    "\n",
    "        feature['avg_power'],feature['power_spec']=(avg_power(win_df['X']))\n",
    "        feature['Label'] = win_df['Label'].value_counts().idxmax()\n",
    "        instances.append(feature)\n",
    "     \n",
    "    \n",
    "    feature_df=pd.DataFrame(instances)\n",
    "    feature_df['User'] = index\n",
    "    \n",
    "    if index == 0:\n",
    "        feature_df.to_csv(url+feature_file[index]+'.csv', float_format='%.6f', index=False)\n",
    "    elif index == 1:\n",
    "        feature_df.to_csv(url+feature_file[index]+'.csv', float_format='%.6f', index=False)\n",
    "    elif index == 2:\n",
    "        feature_df.to_csv(url+feature_file[index]+'.csv', float_format='%.6f', index=False)\n",
    "    elif index == 3:\n",
    "        feature_df.to_csv(url+feature_file[index]+'.csv', float_format='%.6f', index=False)\n",
    "        \n"
   ]
  },
  {
   "cell_type": "code",
   "execution_count": null,
   "metadata": {},
   "outputs": [],
   "source": []
  }
 ],
 "metadata": {
  "kernelspec": {
   "display_name": "Python 3",
   "language": "python",
   "name": "python3"
  },
  "language_info": {
   "codemirror_mode": {
    "name": "ipython",
    "version": 3
   },
   "file_extension": ".py",
   "mimetype": "text/x-python",
   "name": "python",
   "nbconvert_exporter": "python",
   "pygments_lexer": "ipython3",
   "version": "3.6.5"
  }
 },
 "nbformat": 4,
 "nbformat_minor": 2
}
